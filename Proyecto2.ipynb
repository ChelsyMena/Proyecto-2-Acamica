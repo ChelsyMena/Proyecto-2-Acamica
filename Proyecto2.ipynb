{
 "cells": [
  {
   "cell_type": "markdown",
   "metadata": {},
   "source": [
    "# Proyecto: Análisis de mercado inmobiliario\n",
    "## Valeria Ortiz & Chelsy Mena\n",
    "### ¡Segundo proyecto de la carrera de Data Science de Acamica! \n",
    "\n",
    "Aplicaremos transformación de datos y entrenaremos Modelos Avanzados para desarrollar con mayor profundidad el modelo de Machine Learning que nos permitió predecir el precio de Apartamentos, Casas y PH de la Capital Federal Argentina.\n",
    "\n",
    "En este proyecto trabajamos con un dataset de propiedades en venta publicado en el portal [Properati](www.properati.com.ar).\n"
   ]
  },
  {
   "cell_type": "markdown",
   "metadata": {},
   "source": [
    "## PARTE A - Transformación de Datos\n",
    "\n",
    "Elige cuáles de las siguientes tareas son apropiadas para su dataset. Implementa las transformaciones que elegiste. Es importante que justifiques por qué las haces:\n",
    "\n",
    "    - Detección y eliminación de Outliers\n",
    "    - Encoding\n",
    "    - Imputación de valores faltantes\n",
    "    - Escalado de datos\n",
    "    - Generación de nuevas variables predictoras/reducción de dimensionalidad (SVD/PCA).\n",
    "\n",
    "Vuelve a entrenar el modelo implementado en la Entrega 1 - en particular, el árbol de decisión - con este nuevo dataset transformado. Evalúa su desempeño a partir del dataset obtenido luego de transformar los datos. ¿Hay una mejora en su desempeño? Compara con el desempeño obtenido en el proyecto 1. Sea cual sea la respuesta, intenta explicar a qué se debe"
   ]
  },
  {
   "cell_type": "code",
   "execution_count": 4,
   "metadata": {},
   "outputs": [],
   "source": [
    "import numpy as np\n",
    "import pandas as pd\n",
    "import matplotlib.pyplot as plt\n",
    "import seaborn as sns\n",
    "import warnings\n",
    "sns.set()\n",
    "warnings.filterwarnings('ignore')"
   ]
  },
  {
   "cell_type": "code",
   "execution_count": 5,
   "metadata": {},
   "outputs": [
    {
     "name": "stdout",
     "output_type": "stream",
     "text": [
      "(146660, 19)\n"
     ]
    }
   ],
   "source": [
    "listings = pd.read_csv(\"Datos_Properati.csv\")\n",
    "print(listings.shape)"
   ]
  },
  {
   "cell_type": "code",
   "execution_count": 6,
   "metadata": {},
   "outputs": [
    {
     "data": {
      "text/html": [
       "<div>\n",
       "<style scoped>\n",
       "    .dataframe tbody tr th:only-of-type {\n",
       "        vertical-align: middle;\n",
       "    }\n",
       "\n",
       "    .dataframe tbody tr th {\n",
       "        vertical-align: top;\n",
       "    }\n",
       "\n",
       "    .dataframe thead th {\n",
       "        text-align: right;\n",
       "    }\n",
       "</style>\n",
       "<table border=\"1\" class=\"dataframe\">\n",
       "  <thead>\n",
       "    <tr style=\"text-align: right;\">\n",
       "      <th></th>\n",
       "      <th>start_date</th>\n",
       "      <th>end_date</th>\n",
       "      <th>created_on</th>\n",
       "      <th>lat</th>\n",
       "      <th>lon</th>\n",
       "      <th>l1</th>\n",
       "      <th>l2</th>\n",
       "      <th>l3</th>\n",
       "      <th>rooms</th>\n",
       "      <th>bedrooms</th>\n",
       "      <th>bathrooms</th>\n",
       "      <th>surface_total</th>\n",
       "      <th>surface_covered</th>\n",
       "      <th>price</th>\n",
       "      <th>currency</th>\n",
       "      <th>title</th>\n",
       "      <th>description</th>\n",
       "      <th>property_type</th>\n",
       "      <th>operation_type</th>\n",
       "    </tr>\n",
       "  </thead>\n",
       "  <tbody>\n",
       "    <tr>\n",
       "      <th>0</th>\n",
       "      <td>2019-10-17</td>\n",
       "      <td>2019-12-23</td>\n",
       "      <td>2019-10-17</td>\n",
       "      <td>-34.605880</td>\n",
       "      <td>-58.384949</td>\n",
       "      <td>Argentina</td>\n",
       "      <td>Capital Federal</td>\n",
       "      <td>San Cristobal</td>\n",
       "      <td>7.0</td>\n",
       "      <td>7.0</td>\n",
       "      <td>2.0</td>\n",
       "      <td>140.0</td>\n",
       "      <td>140.0</td>\n",
       "      <td>153000.0</td>\n",
       "      <td>USD</td>\n",
       "      <td>***Venta semipiso centro, ideal hostel*****</td>\n",
       "      <td>DESCRIPCION DE LA PROPIEDAD: Departamento de 1...</td>\n",
       "      <td>Departamento</td>\n",
       "      <td>Venta</td>\n",
       "    </tr>\n",
       "    <tr>\n",
       "      <th>1</th>\n",
       "      <td>2019-10-17</td>\n",
       "      <td>2019-11-21</td>\n",
       "      <td>2019-10-17</td>\n",
       "      <td>-34.624056</td>\n",
       "      <td>-58.412110</td>\n",
       "      <td>Argentina</td>\n",
       "      <td>Capital Federal</td>\n",
       "      <td>Boedo</td>\n",
       "      <td>2.0</td>\n",
       "      <td>1.0</td>\n",
       "      <td>2.0</td>\n",
       "      <td>70.0</td>\n",
       "      <td>58.0</td>\n",
       "      <td>159000.0</td>\n",
       "      <td>USD</td>\n",
       "      <td>Espectacular PH reciclado en Boedo sin expensas.</td>\n",
       "      <td>PH reciclado en Boedo a una cuadra de la plaz...</td>\n",
       "      <td>PH</td>\n",
       "      <td>Venta</td>\n",
       "    </tr>\n",
       "    <tr>\n",
       "      <th>2</th>\n",
       "      <td>2019-10-17</td>\n",
       "      <td>2019-11-01</td>\n",
       "      <td>2019-10-17</td>\n",
       "      <td>-34.593569</td>\n",
       "      <td>-58.427474</td>\n",
       "      <td>Argentina</td>\n",
       "      <td>Capital Federal</td>\n",
       "      <td>Palermo</td>\n",
       "      <td>2.0</td>\n",
       "      <td>1.0</td>\n",
       "      <td>1.0</td>\n",
       "      <td>45.0</td>\n",
       "      <td>45.0</td>\n",
       "      <td>125000.0</td>\n",
       "      <td>USD</td>\n",
       "      <td>Depto.tipo casa de 2 ambientes en Venta en Pal...</td>\n",
       "      <td>2 ambienets amplio , excelente estado , patio ...</td>\n",
       "      <td>PH</td>\n",
       "      <td>Venta</td>\n",
       "    </tr>\n",
       "    <tr>\n",
       "      <th>3</th>\n",
       "      <td>2019-10-17</td>\n",
       "      <td>2019-12-23</td>\n",
       "      <td>2019-10-17</td>\n",
       "      <td>-34.581294</td>\n",
       "      <td>-58.436754</td>\n",
       "      <td>Argentina</td>\n",
       "      <td>Capital Federal</td>\n",
       "      <td>Palermo</td>\n",
       "      <td>2.0</td>\n",
       "      <td>1.0</td>\n",
       "      <td>1.0</td>\n",
       "      <td>85.0</td>\n",
       "      <td>50.0</td>\n",
       "      <td>295000.0</td>\n",
       "      <td>USD</td>\n",
       "      <td>COSTA RICA 5800 / PALERMO HOLLYWOOD / VENTA PH...</td>\n",
       "      <td>HERMOSO PH EN PALERMO!!!2 AMBIENTES TOTALMENTE...</td>\n",
       "      <td>PH</td>\n",
       "      <td>Venta</td>\n",
       "    </tr>\n",
       "    <tr>\n",
       "      <th>4</th>\n",
       "      <td>2019-10-17</td>\n",
       "      <td>2020-03-11</td>\n",
       "      <td>2019-10-17</td>\n",
       "      <td>-34.914194</td>\n",
       "      <td>-57.938219</td>\n",
       "      <td>Argentina</td>\n",
       "      <td>Bs.As. G.B.A. Zona Sur</td>\n",
       "      <td>La Plata</td>\n",
       "      <td>2.0</td>\n",
       "      <td>1.0</td>\n",
       "      <td>1.0</td>\n",
       "      <td>50.0</td>\n",
       "      <td>35.0</td>\n",
       "      <td>40000.0</td>\n",
       "      <td>USD</td>\n",
       "      <td>58 entre 1 y 2  Venta de departamento en ph.1 ...</td>\n",
       "      <td>58 entre 1 y 2  Venta de departamento en PH. P...</td>\n",
       "      <td>PH</td>\n",
       "      <td>Venta</td>\n",
       "    </tr>\n",
       "  </tbody>\n",
       "</table>\n",
       "</div>"
      ],
      "text/plain": [
       "   start_date    end_date  created_on        lat        lon         l1  \\\n",
       "0  2019-10-17  2019-12-23  2019-10-17 -34.605880 -58.384949  Argentina   \n",
       "1  2019-10-17  2019-11-21  2019-10-17 -34.624056 -58.412110  Argentina   \n",
       "2  2019-10-17  2019-11-01  2019-10-17 -34.593569 -58.427474  Argentina   \n",
       "3  2019-10-17  2019-12-23  2019-10-17 -34.581294 -58.436754  Argentina   \n",
       "4  2019-10-17  2020-03-11  2019-10-17 -34.914194 -57.938219  Argentina   \n",
       "\n",
       "                       l2             l3  rooms  bedrooms  bathrooms  \\\n",
       "0         Capital Federal  San Cristobal    7.0       7.0        2.0   \n",
       "1         Capital Federal          Boedo    2.0       1.0        2.0   \n",
       "2         Capital Federal        Palermo    2.0       1.0        1.0   \n",
       "3         Capital Federal        Palermo    2.0       1.0        1.0   \n",
       "4  Bs.As. G.B.A. Zona Sur       La Plata    2.0       1.0        1.0   \n",
       "\n",
       "   surface_total  surface_covered     price currency  \\\n",
       "0          140.0            140.0  153000.0      USD   \n",
       "1           70.0             58.0  159000.0      USD   \n",
       "2           45.0             45.0  125000.0      USD   \n",
       "3           85.0             50.0  295000.0      USD   \n",
       "4           50.0             35.0   40000.0      USD   \n",
       "\n",
       "                                               title  \\\n",
       "0        ***Venta semipiso centro, ideal hostel*****   \n",
       "1   Espectacular PH reciclado en Boedo sin expensas.   \n",
       "2  Depto.tipo casa de 2 ambientes en Venta en Pal...   \n",
       "3  COSTA RICA 5800 / PALERMO HOLLYWOOD / VENTA PH...   \n",
       "4  58 entre 1 y 2  Venta de departamento en ph.1 ...   \n",
       "\n",
       "                                         description property_type  \\\n",
       "0  DESCRIPCION DE LA PROPIEDAD: Departamento de 1...  Departamento   \n",
       "1   PH reciclado en Boedo a una cuadra de la plaz...            PH   \n",
       "2  2 ambienets amplio , excelente estado , patio ...            PH   \n",
       "3  HERMOSO PH EN PALERMO!!!2 AMBIENTES TOTALMENTE...            PH   \n",
       "4  58 entre 1 y 2  Venta de departamento en PH. P...            PH   \n",
       "\n",
       "  operation_type  \n",
       "0          Venta  \n",
       "1          Venta  \n",
       "2          Venta  \n",
       "3          Venta  \n",
       "4          Venta  "
      ]
     },
     "execution_count": 6,
     "metadata": {},
     "output_type": "execute_result"
    }
   ],
   "source": [
    "listings_data = listings.copy()\n",
    "listings_data.head()"
   ]
  },
  {
   "cell_type": "code",
   "execution_count": 7,
   "metadata": {},
   "outputs": [
    {
     "data": {
      "text/plain": [
       "(91485, 19)"
      ]
     },
     "execution_count": 7,
     "metadata": {},
     "output_type": "execute_result"
    }
   ],
   "source": [
    "# Filtramos por las condiciones dadas\n",
    "cf_listings = listings_data.loc[(listings_data.property_type.isin(['Departamento','PH','Casa'])) & (listings_data.l2 == 'Capital Federal')]\n",
    "cf_listings.shape"
   ]
  },
  {
   "cell_type": "markdown",
   "metadata": {},
   "source": [
    "#### Análisis exploratorio de datos\n",
    "##### Coherencia de las instancias:\n",
    "\n",
    "1. Eliminamos las instancias donde la superficie cubierta es mayor a la superficie total"
   ]
  },
  {
   "cell_type": "code",
   "execution_count": 8,
   "metadata": {},
   "outputs": [
    {
     "data": {
      "text/plain": [
       "(81291, 19)"
      ]
     },
     "execution_count": 8,
     "metadata": {},
     "output_type": "execute_result"
    }
   ],
   "source": [
    "cf_listings = cf_listings[cf_listings.surface_covered <= cf_listings.surface_total]\n",
    "cf_listings.shape"
   ]
  },
  {
   "cell_type": "markdown",
   "metadata": {},
   "source": [
    "2. Identificamos las instancias idénticas y dejamos solo una de ellas"
   ]
  },
  {
   "cell_type": "code",
   "execution_count": 9,
   "metadata": {},
   "outputs": [
    {
     "data": {
      "text/plain": [
       "(79894, 19)"
      ]
     },
     "execution_count": 9,
     "metadata": {},
     "output_type": "execute_result"
    }
   ],
   "source": [
    "cf_listings.drop_duplicates(keep = 'first', inplace = True)\n",
    "cf_listings.shape"
   ]
  },
  {
   "cell_type": "markdown",
   "metadata": {},
   "source": [
    "3. Empleando las variables de `latitud`, `longitud`, `título`, `descripción` y `fechas de publicación` identificamos las instancias que se refieren a la misma propiedad publicada en diferentes fechas y evaluadas con diferentes precios."
   ]
  },
  {
   "cell_type": "code",
   "execution_count": 10,
   "metadata": {},
   "outputs": [],
   "source": [
    "# Dataframe de prpiedades repetidas\n",
    "repeats = cf_listings.loc[cf_listings.duplicated(subset = ['lat', 'lon', 'title', 'description'], keep = False)]\n",
    "repeats = repeats.sort_values(by = ['lat', 'lon', 'title', 'description', 'start_date'])\n",
    "repeats['old_index'] = repeats.index\n",
    "repeats.reset_index(drop = True, inplace = True)"
   ]
  },
  {
   "cell_type": "code",
   "execution_count": 11,
   "metadata": {},
   "outputs": [
    {
     "data": {
      "text/html": [
       "<div>\n",
       "<style scoped>\n",
       "    .dataframe tbody tr th:only-of-type {\n",
       "        vertical-align: middle;\n",
       "    }\n",
       "\n",
       "    .dataframe tbody tr th {\n",
       "        vertical-align: top;\n",
       "    }\n",
       "\n",
       "    .dataframe thead th {\n",
       "        text-align: right;\n",
       "    }\n",
       "</style>\n",
       "<table border=\"1\" class=\"dataframe\">\n",
       "  <thead>\n",
       "    <tr style=\"text-align: right;\">\n",
       "      <th></th>\n",
       "      <th>start_date</th>\n",
       "      <th>end_date</th>\n",
       "      <th>created_on</th>\n",
       "      <th>lat</th>\n",
       "      <th>lon</th>\n",
       "      <th>l1</th>\n",
       "      <th>l2</th>\n",
       "      <th>l3</th>\n",
       "      <th>rooms</th>\n",
       "      <th>bedrooms</th>\n",
       "      <th>bathrooms</th>\n",
       "      <th>surface_total</th>\n",
       "      <th>surface_covered</th>\n",
       "      <th>price</th>\n",
       "      <th>currency</th>\n",
       "      <th>title</th>\n",
       "      <th>description</th>\n",
       "      <th>property_type</th>\n",
       "      <th>operation_type</th>\n",
       "      <th>old_index</th>\n",
       "    </tr>\n",
       "  </thead>\n",
       "  <tbody>\n",
       "    <tr>\n",
       "      <th>0</th>\n",
       "      <td>2019-06-12</td>\n",
       "      <td>2019-06-23</td>\n",
       "      <td>2019-06-12</td>\n",
       "      <td>-34.691228</td>\n",
       "      <td>-58.464188</td>\n",
       "      <td>Argentina</td>\n",
       "      <td>Capital Federal</td>\n",
       "      <td>Villa Lugano</td>\n",
       "      <td>3.0</td>\n",
       "      <td>2.0</td>\n",
       "      <td>1.0</td>\n",
       "      <td>60.0</td>\n",
       "      <td>56.0</td>\n",
       "      <td>105000.0</td>\n",
       "      <td>USD</td>\n",
       "      <td>Excelente departamento de 3 amb con vistas abi...</td>\n",
       "      <td>Departamento de 3 ambientes con vista abierta ...</td>\n",
       "      <td>Departamento</td>\n",
       "      <td>Venta</td>\n",
       "      <td>32671</td>\n",
       "    </tr>\n",
       "    <tr>\n",
       "      <th>1</th>\n",
       "      <td>2019-07-31</td>\n",
       "      <td>2019-08-14</td>\n",
       "      <td>2019-07-31</td>\n",
       "      <td>-34.691228</td>\n",
       "      <td>-58.464188</td>\n",
       "      <td>Argentina</td>\n",
       "      <td>Capital Federal</td>\n",
       "      <td>Villa Lugano</td>\n",
       "      <td>3.0</td>\n",
       "      <td>2.0</td>\n",
       "      <td>1.0</td>\n",
       "      <td>60.0</td>\n",
       "      <td>56.0</td>\n",
       "      <td>105000.0</td>\n",
       "      <td>USD</td>\n",
       "      <td>Excelente departamento de 3 amb con vistas abi...</td>\n",
       "      <td>Departamento de 3 ambientes con vista abierta ...</td>\n",
       "      <td>Departamento</td>\n",
       "      <td>Venta</td>\n",
       "      <td>138051</td>\n",
       "    </tr>\n",
       "    <tr>\n",
       "      <th>2</th>\n",
       "      <td>2019-06-29</td>\n",
       "      <td>2019-06-30</td>\n",
       "      <td>2019-06-29</td>\n",
       "      <td>-34.686847</td>\n",
       "      <td>-58.465813</td>\n",
       "      <td>Argentina</td>\n",
       "      <td>Capital Federal</td>\n",
       "      <td>Villa Lugano</td>\n",
       "      <td>3.0</td>\n",
       "      <td>2.0</td>\n",
       "      <td>1.0</td>\n",
       "      <td>51.0</td>\n",
       "      <td>50.0</td>\n",
       "      <td>55000.0</td>\n",
       "      <td>USD</td>\n",
       "      <td>Cafayate 5200 Villa Lugano 3amb U$55.000</td>\n",
       "      <td>No apto crédito. Departamento amoblado de 3 am...</td>\n",
       "      <td>Departamento</td>\n",
       "      <td>Venta</td>\n",
       "      <td>129195</td>\n",
       "    </tr>\n",
       "    <tr>\n",
       "      <th>3</th>\n",
       "      <td>2019-07-31</td>\n",
       "      <td>2019-08-14</td>\n",
       "      <td>2019-07-31</td>\n",
       "      <td>-34.686847</td>\n",
       "      <td>-58.465813</td>\n",
       "      <td>Argentina</td>\n",
       "      <td>Capital Federal</td>\n",
       "      <td>Villa Lugano</td>\n",
       "      <td>3.0</td>\n",
       "      <td>2.0</td>\n",
       "      <td>1.0</td>\n",
       "      <td>51.0</td>\n",
       "      <td>50.0</td>\n",
       "      <td>55000.0</td>\n",
       "      <td>USD</td>\n",
       "      <td>Cafayate 5200 Villa Lugano 3amb U$55.000</td>\n",
       "      <td>No apto crédito. Departamento amoblado de 3 am...</td>\n",
       "      <td>Departamento</td>\n",
       "      <td>Venta</td>\n",
       "      <td>137493</td>\n",
       "    </tr>\n",
       "    <tr>\n",
       "      <th>4</th>\n",
       "      <td>2019-02-02</td>\n",
       "      <td>2019-06-23</td>\n",
       "      <td>2019-02-02</td>\n",
       "      <td>-34.686631</td>\n",
       "      <td>-58.459562</td>\n",
       "      <td>Argentina</td>\n",
       "      <td>Capital Federal</td>\n",
       "      <td>Villa Lugano</td>\n",
       "      <td>3.0</td>\n",
       "      <td>2.0</td>\n",
       "      <td>1.0</td>\n",
       "      <td>50.0</td>\n",
       "      <td>50.0</td>\n",
       "      <td>49000.0</td>\n",
       "      <td>USD</td>\n",
       "      <td>3 AMB TODO EXTERNO MUY LUMINOSO COC COMP LAVAD</td>\n",
       "      <td>3 AMB TODO EXTERNO MUY LUMINOSO COC COMP LAVAD...</td>\n",
       "      <td>Departamento</td>\n",
       "      <td>Venta</td>\n",
       "      <td>49219</td>\n",
       "    </tr>\n",
       "    <tr>\n",
       "      <th>5</th>\n",
       "      <td>2019-07-31</td>\n",
       "      <td>2020-01-17</td>\n",
       "      <td>2019-07-31</td>\n",
       "      <td>-34.686631</td>\n",
       "      <td>-58.459562</td>\n",
       "      <td>Argentina</td>\n",
       "      <td>Capital Federal</td>\n",
       "      <td>Villa Lugano</td>\n",
       "      <td>3.0</td>\n",
       "      <td>2.0</td>\n",
       "      <td>1.0</td>\n",
       "      <td>50.0</td>\n",
       "      <td>50.0</td>\n",
       "      <td>49000.0</td>\n",
       "      <td>USD</td>\n",
       "      <td>3 AMB TODO EXTERNO MUY LUMINOSO COC COMP LAVAD</td>\n",
       "      <td>3 AMB TODO EXTERNO MUY LUMINOSO COC COMP LAVAD...</td>\n",
       "      <td>Departamento</td>\n",
       "      <td>Venta</td>\n",
       "      <td>137492</td>\n",
       "    </tr>\n",
       "  </tbody>\n",
       "</table>\n",
       "</div>"
      ],
      "text/plain": [
       "   start_date    end_date  created_on        lat        lon         l1  \\\n",
       "0  2019-06-12  2019-06-23  2019-06-12 -34.691228 -58.464188  Argentina   \n",
       "1  2019-07-31  2019-08-14  2019-07-31 -34.691228 -58.464188  Argentina   \n",
       "2  2019-06-29  2019-06-30  2019-06-29 -34.686847 -58.465813  Argentina   \n",
       "3  2019-07-31  2019-08-14  2019-07-31 -34.686847 -58.465813  Argentina   \n",
       "4  2019-02-02  2019-06-23  2019-02-02 -34.686631 -58.459562  Argentina   \n",
       "5  2019-07-31  2020-01-17  2019-07-31 -34.686631 -58.459562  Argentina   \n",
       "\n",
       "                l2            l3  rooms  bedrooms  bathrooms  surface_total  \\\n",
       "0  Capital Federal  Villa Lugano    3.0       2.0        1.0           60.0   \n",
       "1  Capital Federal  Villa Lugano    3.0       2.0        1.0           60.0   \n",
       "2  Capital Federal  Villa Lugano    3.0       2.0        1.0           51.0   \n",
       "3  Capital Federal  Villa Lugano    3.0       2.0        1.0           51.0   \n",
       "4  Capital Federal  Villa Lugano    3.0       2.0        1.0           50.0   \n",
       "5  Capital Federal  Villa Lugano    3.0       2.0        1.0           50.0   \n",
       "\n",
       "   surface_covered     price currency  \\\n",
       "0             56.0  105000.0      USD   \n",
       "1             56.0  105000.0      USD   \n",
       "2             50.0   55000.0      USD   \n",
       "3             50.0   55000.0      USD   \n",
       "4             50.0   49000.0      USD   \n",
       "5             50.0   49000.0      USD   \n",
       "\n",
       "                                               title  \\\n",
       "0  Excelente departamento de 3 amb con vistas abi...   \n",
       "1  Excelente departamento de 3 amb con vistas abi...   \n",
       "2           Cafayate 5200 Villa Lugano 3amb U$55.000   \n",
       "3           Cafayate 5200 Villa Lugano 3amb U$55.000   \n",
       "4     3 AMB TODO EXTERNO MUY LUMINOSO COC COMP LAVAD   \n",
       "5     3 AMB TODO EXTERNO MUY LUMINOSO COC COMP LAVAD   \n",
       "\n",
       "                                         description property_type  \\\n",
       "0  Departamento de 3 ambientes con vista abierta ...  Departamento   \n",
       "1  Departamento de 3 ambientes con vista abierta ...  Departamento   \n",
       "2  No apto crédito. Departamento amoblado de 3 am...  Departamento   \n",
       "3  No apto crédito. Departamento amoblado de 3 am...  Departamento   \n",
       "4  3 AMB TODO EXTERNO MUY LUMINOSO COC COMP LAVAD...  Departamento   \n",
       "5  3 AMB TODO EXTERNO MUY LUMINOSO COC COMP LAVAD...  Departamento   \n",
       "\n",
       "  operation_type  old_index  \n",
       "0          Venta      32671  \n",
       "1          Venta     138051  \n",
       "2          Venta     129195  \n",
       "3          Venta     137493  \n",
       "4          Venta      49219  \n",
       "5          Venta     137492  "
      ]
     },
     "execution_count": 11,
     "metadata": {},
     "output_type": "execute_result"
    }
   ],
   "source": [
    "repeats.head(6)"
   ]
  },
  {
   "cell_type": "markdown",
   "metadata": {},
   "source": [
    "En general, las instancias repetidas son propiedades que se eliminaron y se ublicaron nuevamente. Dejamos únicamente la última publicación de cada propiedad."
   ]
  },
  {
   "cell_type": "code",
   "execution_count": 12,
   "metadata": {},
   "outputs": [],
   "source": [
    "# Anotamos los indices de los repetidos, comparando ubicación, título y descripción.\n",
    "repeated_listings = []\n",
    "for row in range(len(repeats) - 1):\n",
    "    if ((repeats.lat[row] == repeats.lat[row + 1]) and\n",
    "       (repeats.lon[row] == repeats.lon[row + 1]) and\n",
    "       (repeats.title[row] == repeats.title[row + 1]) and\n",
    "       (repeats.description[row] == repeats.description[row + 1])):\n",
    "       \n",
    "       repeated_listings.append(repeats.old_index[row])"
   ]
  },
  {
   "cell_type": "code",
   "execution_count": 13,
   "metadata": {},
   "outputs": [
    {
     "name": "stdout",
     "output_type": "stream",
     "text": [
      "Tenemos 25815 listings que eliminar\n"
     ]
    }
   ],
   "source": [
    "print(f'Tenemos {len(repeated_listings)} listings que eliminar')"
   ]
  },
  {
   "cell_type": "code",
   "execution_count": 14,
   "metadata": {},
   "outputs": [],
   "source": [
    "cf_listings.drop(index = repeated_listings, inplace = True)"
   ]
  },
  {
   "cell_type": "markdown",
   "metadata": {},
   "source": [
    "##### Selección inicial de features"
   ]
  },
  {
   "cell_type": "markdown",
   "metadata": {},
   "source": [
    "Las variables `título`, `descripción` y `fechas de publicación` ya se emplearon para analizar las instancias y se eliminan del dataset para disminuir la cantidad de features. También se eliminan las variables categóricas `l2` y `l3` ya que ya están representadas por las variables numéricas `lat` y `lon`."
   ]
  },
  {
   "cell_type": "code",
   "execution_count": 15,
   "metadata": {},
   "outputs": [],
   "source": [
    "cf_listings.drop(['start_date','end_date', 'created_on', 'title','description','l2','l3'],axis=1,inplace=True)"
   ]
  },
  {
   "cell_type": "markdown",
   "metadata": {},
   "source": [
    "Las siguientes variables sólo tienen un dato: `operation_type`: Venta, `currency`:USD y `l1`:Argentina. También son eliminadas."
   ]
  },
  {
   "cell_type": "code",
   "execution_count": 16,
   "metadata": {},
   "outputs": [
    {
     "name": "stdout",
     "output_type": "stream",
     "text": [
      "Argentina    54079\n",
      "Name: l1, dtype: int64\n",
      "USD    54079\n",
      "Name: currency, dtype: int64\n",
      "Venta    54079\n",
      "Name: operation_type, dtype: int64\n",
      "Argentina    54079\n",
      "Name: l1, dtype: int64\n"
     ]
    }
   ],
   "source": [
    "print(cf_listings['l1'].value_counts())\n",
    "print(cf_listings['currency'].value_counts())\n",
    "print(cf_listings['operation_type'].value_counts())\n",
    "print(cf_listings['l1'].value_counts())\n",
    "cf_listings.drop(['currency','operation_type','l1'],axis=1,inplace=True)"
   ]
  },
  {
   "cell_type": "code",
   "execution_count": 17,
   "metadata": {},
   "outputs": [
    {
     "name": "stdout",
     "output_type": "stream",
     "text": [
      "El tamaño del dataset es:  (54079, 9)\n"
     ]
    }
   ],
   "source": [
    "print('El tamaño del dataset es: ',cf_listings.shape)"
   ]
  },
  {
   "cell_type": "markdown",
   "metadata": {},
   "source": [
    "##### Estadísticas de los datos\n",
    "Echamos un vistazo a los estadísticos de nuestras variables numéricas:"
   ]
  },
  {
   "cell_type": "code",
   "execution_count": 18,
   "metadata": {},
   "outputs": [
    {
     "data": {
      "text/html": [
       "<div>\n",
       "<style scoped>\n",
       "    .dataframe tbody tr th:only-of-type {\n",
       "        vertical-align: middle;\n",
       "    }\n",
       "\n",
       "    .dataframe tbody tr th {\n",
       "        vertical-align: top;\n",
       "    }\n",
       "\n",
       "    .dataframe thead th {\n",
       "        text-align: right;\n",
       "    }\n",
       "</style>\n",
       "<table border=\"1\" class=\"dataframe\">\n",
       "  <thead>\n",
       "    <tr style=\"text-align: right;\">\n",
       "      <th></th>\n",
       "      <th>rooms</th>\n",
       "      <th>bedrooms</th>\n",
       "      <th>bathrooms</th>\n",
       "      <th>surface_total</th>\n",
       "      <th>surface_covered</th>\n",
       "      <th>price</th>\n",
       "    </tr>\n",
       "  </thead>\n",
       "  <tbody>\n",
       "    <tr>\n",
       "      <th>count</th>\n",
       "      <td>54079.000000</td>\n",
       "      <td>54079.000000</td>\n",
       "      <td>53383.000000</td>\n",
       "      <td>54079.000000</td>\n",
       "      <td>54079.000000</td>\n",
       "      <td>5.407900e+04</td>\n",
       "    </tr>\n",
       "    <tr>\n",
       "      <th>mean</th>\n",
       "      <td>2.993528</td>\n",
       "      <td>1.989959</td>\n",
       "      <td>1.554165</td>\n",
       "      <td>123.251798</td>\n",
       "      <td>97.929621</td>\n",
       "      <td>2.676294e+05</td>\n",
       "    </tr>\n",
       "    <tr>\n",
       "      <th>std</th>\n",
       "      <td>1.347330</td>\n",
       "      <td>1.053574</td>\n",
       "      <td>0.861913</td>\n",
       "      <td>1209.860709</td>\n",
       "      <td>942.208518</td>\n",
       "      <td>3.383782e+05</td>\n",
       "    </tr>\n",
       "    <tr>\n",
       "      <th>min</th>\n",
       "      <td>1.000000</td>\n",
       "      <td>0.000000</td>\n",
       "      <td>1.000000</td>\n",
       "      <td>12.000000</td>\n",
       "      <td>1.000000</td>\n",
       "      <td>6.000000e+03</td>\n",
       "    </tr>\n",
       "    <tr>\n",
       "      <th>25%</th>\n",
       "      <td>2.000000</td>\n",
       "      <td>1.000000</td>\n",
       "      <td>1.000000</td>\n",
       "      <td>49.000000</td>\n",
       "      <td>44.000000</td>\n",
       "      <td>1.220000e+05</td>\n",
       "    </tr>\n",
       "    <tr>\n",
       "      <th>50%</th>\n",
       "      <td>3.000000</td>\n",
       "      <td>2.000000</td>\n",
       "      <td>1.000000</td>\n",
       "      <td>71.000000</td>\n",
       "      <td>63.000000</td>\n",
       "      <td>1.780000e+05</td>\n",
       "    </tr>\n",
       "    <tr>\n",
       "      <th>75%</th>\n",
       "      <td>4.000000</td>\n",
       "      <td>3.000000</td>\n",
       "      <td>2.000000</td>\n",
       "      <td>115.000000</td>\n",
       "      <td>97.000000</td>\n",
       "      <td>2.897000e+05</td>\n",
       "    </tr>\n",
       "    <tr>\n",
       "      <th>max</th>\n",
       "      <td>26.000000</td>\n",
       "      <td>15.000000</td>\n",
       "      <td>14.000000</td>\n",
       "      <td>126062.000000</td>\n",
       "      <td>126062.000000</td>\n",
       "      <td>3.243423e+07</td>\n",
       "    </tr>\n",
       "  </tbody>\n",
       "</table>\n",
       "</div>"
      ],
      "text/plain": [
       "              rooms      bedrooms     bathrooms  surface_total  \\\n",
       "count  54079.000000  54079.000000  53383.000000   54079.000000   \n",
       "mean       2.993528      1.989959      1.554165     123.251798   \n",
       "std        1.347330      1.053574      0.861913    1209.860709   \n",
       "min        1.000000      0.000000      1.000000      12.000000   \n",
       "25%        2.000000      1.000000      1.000000      49.000000   \n",
       "50%        3.000000      2.000000      1.000000      71.000000   \n",
       "75%        4.000000      3.000000      2.000000     115.000000   \n",
       "max       26.000000     15.000000     14.000000  126062.000000   \n",
       "\n",
       "       surface_covered         price  \n",
       "count     54079.000000  5.407900e+04  \n",
       "mean         97.929621  2.676294e+05  \n",
       "std         942.208518  3.383782e+05  \n",
       "min           1.000000  6.000000e+03  \n",
       "25%          44.000000  1.220000e+05  \n",
       "50%          63.000000  1.780000e+05  \n",
       "75%          97.000000  2.897000e+05  \n",
       "max      126062.000000  3.243423e+07  "
      ]
     },
     "execution_count": 18,
     "metadata": {},
     "output_type": "execute_result"
    }
   ],
   "source": [
    "cf_listings[['rooms', 'bedrooms', 'bathrooms', 'surface_total', 'surface_covered', 'price']].describe()"
   ]
  },
  {
   "cell_type": "markdown",
   "metadata": {},
   "source": [
    "Visualizaremos la distribución de las variables numéricas de nuestro dataset, en boxplots las discretas como numero de habitaciones y en histogramas las continuas, restringiéndonos a los rangos donde están la mayoría de nuestros datos. "
   ]
  },
  {
   "cell_type": "code",
   "execution_count": 19,
   "metadata": {},
   "outputs": [],
   "source": [
    "# Gráficas boxplots para variables discretas e histogramas para variables continuas\n",
    "#fig, axes = plt.subplots(2, 3, figsize=(15, 10))\n",
    "#plt.title('Distribution of each variable', fontsize=15)\n",
    "\n",
    "#sns.boxplot(ax=axes[0,0], data = cf_listings, x='rooms')\n",
    "#axes[0,0].set(xlabel='Number of rooms',ylabel='',title='Rooms')\n",
    "\n",
    "#sns.boxplot(ax=axes[0,1], data = cf_listings, x='bedrooms')\n",
    "#axes[0,1].set(xlabel='Number of bedrooms',ylabel='',title='Bedrooms')\n",
    "\n",
    "#sns.boxplot(ax=axes[0,2], data = cf_listings, x='bathrooms')\n",
    "#axes[0,2].set(xlabel='Number of bathrooms',ylabel='',title='Bathrooms')\n",
    "\n",
    "#sns.histplot(ax=axes[1,0], data = cf_listings, x='surface_total')\n",
    "#axes[1,0].set(xlabel='Total Surface (m^2)',ylabel='Number of Properties',title='Total Surface'\n",
    "#             ,ylim = (0, 3500), xlim = (0, 400))\n",
    "\n",
    "#sns.histplot(ax=axes[1,1], data = cf_listings, x='surface_covered')\n",
    "#axes[1,1].set(xlabel='Covered Surface (m^2)',ylabel='Number of Properties',title='Covered Surface'\n",
    "#              ,ylim = (0, 3500), xlim = (0, 400))\n",
    "\n",
    "#sns.histplot(ax=axes[1,2], data = cf_listings, x='price')\n",
    "#axes[1,2].set(xlabel='Price (USD)',ylabel='Number of Properties',title='Price'\n",
    "#              ,ylim = (0, 3500), xlim = (0, 1000000))"
   ]
  },
  {
   "cell_type": "markdown",
   "metadata": {},
   "source": [
    "Podemos ver que la mayoría de propiedades en venta en nuestra página tienen un rango de superficie menor a 200 m², pero aún asi hay muchas propiedades con mucha superficie tanto cubierta como descubierta. Lo que podría ser congruente con las propiedades que dicen tener hasta 26 espacios.\n",
    "\n",
    "Estas propiedades de 200 m² o menos deben corresponder también a la mayoría de precios que vemos son menos de \\$500000 USD. Pero sabemos que también manejamos propiedades alrededor del millon de dólares, y algunas que incluso cruzan la barrera de los 10 millones. Debemos acotar estos datos para que el modelo sea efectivo en los rangos de precios y tamaños donde tenemos la mayoria de las publicaciones. \n",
    "\n",
    "(((((podriamos hacer otro modelo con losotros datos luego)))))"
   ]
  },
  {
   "cell_type": "markdown",
   "metadata": {},
   "source": [
    "#### Detección de Outliers y Ruido\n",
    "\n",
    "De acuerdo a lo anterior, realizamos la eliminación de los outliers de las variables con rangos muy amplios. Utilizaremos la técnica del rango intercuartílico ya que define donde están la mayoría de los datos sin ser influenciado por la gran varianza  que tenemos en este dataset\n",
    "\n"
   ]
  },
  {
   "cell_type": "code",
   "execution_count": 20,
   "metadata": {},
   "outputs": [],
   "source": [
    "# Función para detectar qué datos de una columna estan fuera del IQR\n",
    "def select_outliers(data, column):\n",
    "    col = data[column]\n",
    "    Q1 = col.quantile(0.25) \n",
    "    Q3 = col.quantile(0.75) \n",
    "    IQR = Q3 - Q1 \n",
    "    minimum = Q1 - (1.5*IQR) \n",
    "    maximum = Q3 + (1.5*IQR)\n",
    "    indexes = data.index[(col < minimum) | (col > maximum)]\n",
    "\n",
    "    return indexes"
   ]
  },
  {
   "cell_type": "code",
   "execution_count": 21,
   "metadata": {},
   "outputs": [],
   "source": [
    "# Seleccionamos los outliers de las 3 columnas en cuestion\n",
    "idx_price = select_outliers(cf_listings,'price').tolist()\n",
    "idx_cov_surf = select_outliers(cf_listings,'surface_covered').tolist()\n",
    "idx_tot_surf = select_outliers(cf_listings,'surface_total').tolist()"
   ]
  },
  {
   "cell_type": "code",
   "execution_count": 22,
   "metadata": {},
   "outputs": [
    {
     "name": "stdout",
     "output_type": "stream",
     "text": [
      "Eliminaremos 6838 listings considerados outliers en una de estas tres variables\n"
     ]
    }
   ],
   "source": [
    "#Obtenemos una lista de valores unicos para eliminar del dataset\n",
    "idxs = list(set(idx_price + idx_cov_surf + idx_tot_surf))\n",
    "print(f'Eliminaremos {len(idxs)} listings considerados outliers en una de estas tres variables')"
   ]
  },
  {
   "cell_type": "code",
   "execution_count": 23,
   "metadata": {},
   "outputs": [
    {
     "data": {
      "text/plain": [
       "(47241, 9)"
      ]
     },
     "execution_count": 23,
     "metadata": {},
     "output_type": "execute_result"
    }
   ],
   "source": [
    "cf_outliers = cf_listings.drop(index = idxs)\n",
    "cf_outliers.shape"
   ]
  },
  {
   "cell_type": "markdown",
   "metadata": {},
   "source": [
    "Se comparan los datos estadísticos de las variables con y sin outliers:"
   ]
  },
  {
   "cell_type": "code",
   "execution_count": 24,
   "metadata": {},
   "outputs": [
    {
     "name": "stdout",
     "output_type": "stream",
     "text": [
      "Estadísticas de las variables con outliers:\n"
     ]
    },
    {
     "data": {
      "text/html": [
       "<div>\n",
       "<style scoped>\n",
       "    .dataframe tbody tr th:only-of-type {\n",
       "        vertical-align: middle;\n",
       "    }\n",
       "\n",
       "    .dataframe tbody tr th {\n",
       "        vertical-align: top;\n",
       "    }\n",
       "\n",
       "    .dataframe thead th {\n",
       "        text-align: right;\n",
       "    }\n",
       "</style>\n",
       "<table border=\"1\" class=\"dataframe\">\n",
       "  <thead>\n",
       "    <tr style=\"text-align: right;\">\n",
       "      <th></th>\n",
       "      <th>rooms</th>\n",
       "      <th>bedrooms</th>\n",
       "      <th>bathrooms</th>\n",
       "      <th>surface_total</th>\n",
       "      <th>surface_covered</th>\n",
       "      <th>price</th>\n",
       "    </tr>\n",
       "  </thead>\n",
       "  <tbody>\n",
       "    <tr>\n",
       "      <th>count</th>\n",
       "      <td>54079.000000</td>\n",
       "      <td>54079.000000</td>\n",
       "      <td>53383.000000</td>\n",
       "      <td>54079.000000</td>\n",
       "      <td>54079.000000</td>\n",
       "      <td>5.407900e+04</td>\n",
       "    </tr>\n",
       "    <tr>\n",
       "      <th>mean</th>\n",
       "      <td>2.993528</td>\n",
       "      <td>1.989959</td>\n",
       "      <td>1.554165</td>\n",
       "      <td>123.251798</td>\n",
       "      <td>97.929621</td>\n",
       "      <td>2.676294e+05</td>\n",
       "    </tr>\n",
       "    <tr>\n",
       "      <th>std</th>\n",
       "      <td>1.347330</td>\n",
       "      <td>1.053574</td>\n",
       "      <td>0.861913</td>\n",
       "      <td>1209.860709</td>\n",
       "      <td>942.208518</td>\n",
       "      <td>3.383782e+05</td>\n",
       "    </tr>\n",
       "    <tr>\n",
       "      <th>min</th>\n",
       "      <td>1.000000</td>\n",
       "      <td>0.000000</td>\n",
       "      <td>1.000000</td>\n",
       "      <td>12.000000</td>\n",
       "      <td>1.000000</td>\n",
       "      <td>6.000000e+03</td>\n",
       "    </tr>\n",
       "    <tr>\n",
       "      <th>25%</th>\n",
       "      <td>2.000000</td>\n",
       "      <td>1.000000</td>\n",
       "      <td>1.000000</td>\n",
       "      <td>49.000000</td>\n",
       "      <td>44.000000</td>\n",
       "      <td>1.220000e+05</td>\n",
       "    </tr>\n",
       "    <tr>\n",
       "      <th>50%</th>\n",
       "      <td>3.000000</td>\n",
       "      <td>2.000000</td>\n",
       "      <td>1.000000</td>\n",
       "      <td>71.000000</td>\n",
       "      <td>63.000000</td>\n",
       "      <td>1.780000e+05</td>\n",
       "    </tr>\n",
       "    <tr>\n",
       "      <th>75%</th>\n",
       "      <td>4.000000</td>\n",
       "      <td>3.000000</td>\n",
       "      <td>2.000000</td>\n",
       "      <td>115.000000</td>\n",
       "      <td>97.000000</td>\n",
       "      <td>2.897000e+05</td>\n",
       "    </tr>\n",
       "    <tr>\n",
       "      <th>max</th>\n",
       "      <td>26.000000</td>\n",
       "      <td>15.000000</td>\n",
       "      <td>14.000000</td>\n",
       "      <td>126062.000000</td>\n",
       "      <td>126062.000000</td>\n",
       "      <td>3.243423e+07</td>\n",
       "    </tr>\n",
       "  </tbody>\n",
       "</table>\n",
       "</div>"
      ],
      "text/plain": [
       "              rooms      bedrooms     bathrooms  surface_total  \\\n",
       "count  54079.000000  54079.000000  53383.000000   54079.000000   \n",
       "mean       2.993528      1.989959      1.554165     123.251798   \n",
       "std        1.347330      1.053574      0.861913    1209.860709   \n",
       "min        1.000000      0.000000      1.000000      12.000000   \n",
       "25%        2.000000      1.000000      1.000000      49.000000   \n",
       "50%        3.000000      2.000000      1.000000      71.000000   \n",
       "75%        4.000000      3.000000      2.000000     115.000000   \n",
       "max       26.000000     15.000000     14.000000  126062.000000   \n",
       "\n",
       "       surface_covered         price  \n",
       "count     54079.000000  5.407900e+04  \n",
       "mean         97.929621  2.676294e+05  \n",
       "std         942.208518  3.383782e+05  \n",
       "min           1.000000  6.000000e+03  \n",
       "25%          44.000000  1.220000e+05  \n",
       "50%          63.000000  1.780000e+05  \n",
       "75%          97.000000  2.897000e+05  \n",
       "max      126062.000000  3.243423e+07  "
      ]
     },
     "execution_count": 24,
     "metadata": {},
     "output_type": "execute_result"
    }
   ],
   "source": [
    "# Echamos un vistazo a los nuevos estadísticos de nuestras variables numéricas\n",
    "print('Estadísticas de las variables con outliers:')\n",
    "cf_listings[['rooms', 'bedrooms', 'bathrooms', 'surface_total', 'surface_covered', 'price']].describe()"
   ]
  },
  {
   "cell_type": "code",
   "execution_count": 25,
   "metadata": {},
   "outputs": [
    {
     "name": "stdout",
     "output_type": "stream",
     "text": [
      "Estadísticas de las variables sin outliers:\n"
     ]
    },
    {
     "data": {
      "text/html": [
       "<div>\n",
       "<style scoped>\n",
       "    .dataframe tbody tr th:only-of-type {\n",
       "        vertical-align: middle;\n",
       "    }\n",
       "\n",
       "    .dataframe tbody tr th {\n",
       "        vertical-align: top;\n",
       "    }\n",
       "\n",
       "    .dataframe thead th {\n",
       "        text-align: right;\n",
       "    }\n",
       "</style>\n",
       "<table border=\"1\" class=\"dataframe\">\n",
       "  <thead>\n",
       "    <tr style=\"text-align: right;\">\n",
       "      <th></th>\n",
       "      <th>rooms</th>\n",
       "      <th>bedrooms</th>\n",
       "      <th>bathrooms</th>\n",
       "      <th>surface_total</th>\n",
       "      <th>surface_covered</th>\n",
       "      <th>price</th>\n",
       "    </tr>\n",
       "  </thead>\n",
       "  <tbody>\n",
       "    <tr>\n",
       "      <th>count</th>\n",
       "      <td>47241.000000</td>\n",
       "      <td>47241.000000</td>\n",
       "      <td>46626.000000</td>\n",
       "      <td>47241.000000</td>\n",
       "      <td>47241.000000</td>\n",
       "      <td>47241.000000</td>\n",
       "    </tr>\n",
       "    <tr>\n",
       "      <th>mean</th>\n",
       "      <td>2.730383</td>\n",
       "      <td>1.794733</td>\n",
       "      <td>1.364989</td>\n",
       "      <td>74.787473</td>\n",
       "      <td>64.996317</td>\n",
       "      <td>189403.370081</td>\n",
       "    </tr>\n",
       "    <tr>\n",
       "      <th>std</th>\n",
       "      <td>1.067701</td>\n",
       "      <td>0.871781</td>\n",
       "      <td>0.622519</td>\n",
       "      <td>37.612185</td>\n",
       "      <td>30.219140</td>\n",
       "      <td>99763.390228</td>\n",
       "    </tr>\n",
       "    <tr>\n",
       "      <th>min</th>\n",
       "      <td>1.000000</td>\n",
       "      <td>0.000000</td>\n",
       "      <td>1.000000</td>\n",
       "      <td>12.000000</td>\n",
       "      <td>2.000000</td>\n",
       "      <td>7500.000000</td>\n",
       "    </tr>\n",
       "    <tr>\n",
       "      <th>25%</th>\n",
       "      <td>2.000000</td>\n",
       "      <td>1.000000</td>\n",
       "      <td>1.000000</td>\n",
       "      <td>47.000000</td>\n",
       "      <td>42.000000</td>\n",
       "      <td>117000.000000</td>\n",
       "    </tr>\n",
       "    <tr>\n",
       "      <th>50%</th>\n",
       "      <td>3.000000</td>\n",
       "      <td>2.000000</td>\n",
       "      <td>1.000000</td>\n",
       "      <td>65.000000</td>\n",
       "      <td>58.000000</td>\n",
       "      <td>160000.000000</td>\n",
       "    </tr>\n",
       "    <tr>\n",
       "      <th>75%</th>\n",
       "      <td>3.000000</td>\n",
       "      <td>2.000000</td>\n",
       "      <td>2.000000</td>\n",
       "      <td>93.000000</td>\n",
       "      <td>80.000000</td>\n",
       "      <td>240000.000000</td>\n",
       "    </tr>\n",
       "    <tr>\n",
       "      <th>max</th>\n",
       "      <td>21.000000</td>\n",
       "      <td>15.000000</td>\n",
       "      <td>14.000000</td>\n",
       "      <td>214.000000</td>\n",
       "      <td>176.000000</td>\n",
       "      <td>540215.000000</td>\n",
       "    </tr>\n",
       "  </tbody>\n",
       "</table>\n",
       "</div>"
      ],
      "text/plain": [
       "              rooms      bedrooms     bathrooms  surface_total  \\\n",
       "count  47241.000000  47241.000000  46626.000000   47241.000000   \n",
       "mean       2.730383      1.794733      1.364989      74.787473   \n",
       "std        1.067701      0.871781      0.622519      37.612185   \n",
       "min        1.000000      0.000000      1.000000      12.000000   \n",
       "25%        2.000000      1.000000      1.000000      47.000000   \n",
       "50%        3.000000      2.000000      1.000000      65.000000   \n",
       "75%        3.000000      2.000000      2.000000      93.000000   \n",
       "max       21.000000     15.000000     14.000000     214.000000   \n",
       "\n",
       "       surface_covered          price  \n",
       "count     47241.000000   47241.000000  \n",
       "mean         64.996317  189403.370081  \n",
       "std          30.219140   99763.390228  \n",
       "min           2.000000    7500.000000  \n",
       "25%          42.000000  117000.000000  \n",
       "50%          58.000000  160000.000000  \n",
       "75%          80.000000  240000.000000  \n",
       "max         176.000000  540215.000000  "
      ]
     },
     "execution_count": 25,
     "metadata": {},
     "output_type": "execute_result"
    }
   ],
   "source": [
    "# Echamos un vistazo a los nuevos estadísticos de nuestras variables numéricas\n",
    "print('Estadísticas de las variables sin outliers:')\n",
    "cf_outliers[['rooms', 'bedrooms', 'bathrooms', 'surface_total', 'surface_covered', 'price']].describe()"
   ]
  },
  {
   "cell_type": "markdown",
   "metadata": {},
   "source": [
    "#### Imputación de Valores Faltantes\n",
    " Miramos la cantidad de valores faltantes para cada tipo de propiedad por variable:"
   ]
  },
  {
   "cell_type": "code",
   "execution_count": 26,
   "metadata": {},
   "outputs": [
    {
     "data": {
      "text/html": [
       "<div>\n",
       "<style scoped>\n",
       "    .dataframe tbody tr th:only-of-type {\n",
       "        vertical-align: middle;\n",
       "    }\n",
       "\n",
       "    .dataframe tbody tr th {\n",
       "        vertical-align: top;\n",
       "    }\n",
       "\n",
       "    .dataframe thead th {\n",
       "        text-align: right;\n",
       "    }\n",
       "</style>\n",
       "<table border=\"1\" class=\"dataframe\">\n",
       "  <thead>\n",
       "    <tr style=\"text-align: right;\">\n",
       "      <th></th>\n",
       "      <th>lat</th>\n",
       "      <th>lon</th>\n",
       "      <th>rooms</th>\n",
       "      <th>bedrooms</th>\n",
       "      <th>bathrooms</th>\n",
       "      <th>surface_total</th>\n",
       "      <th>surface_covered</th>\n",
       "      <th>price</th>\n",
       "      <th>property_type</th>\n",
       "    </tr>\n",
       "    <tr>\n",
       "      <th>property_type</th>\n",
       "      <th></th>\n",
       "      <th></th>\n",
       "      <th></th>\n",
       "      <th></th>\n",
       "      <th></th>\n",
       "      <th></th>\n",
       "      <th></th>\n",
       "      <th></th>\n",
       "      <th></th>\n",
       "    </tr>\n",
       "  </thead>\n",
       "  <tbody>\n",
       "    <tr>\n",
       "      <th>Casa</th>\n",
       "      <td>9</td>\n",
       "      <td>9</td>\n",
       "      <td>0</td>\n",
       "      <td>0</td>\n",
       "      <td>19</td>\n",
       "      <td>0</td>\n",
       "      <td>0</td>\n",
       "      <td>0</td>\n",
       "      <td>0</td>\n",
       "    </tr>\n",
       "    <tr>\n",
       "      <th>Departamento</th>\n",
       "      <td>3042</td>\n",
       "      <td>3042</td>\n",
       "      <td>0</td>\n",
       "      <td>0</td>\n",
       "      <td>529</td>\n",
       "      <td>0</td>\n",
       "      <td>0</td>\n",
       "      <td>0</td>\n",
       "      <td>0</td>\n",
       "    </tr>\n",
       "    <tr>\n",
       "      <th>PH</th>\n",
       "      <td>173</td>\n",
       "      <td>173</td>\n",
       "      <td>0</td>\n",
       "      <td>0</td>\n",
       "      <td>67</td>\n",
       "      <td>0</td>\n",
       "      <td>0</td>\n",
       "      <td>0</td>\n",
       "      <td>0</td>\n",
       "    </tr>\n",
       "  </tbody>\n",
       "</table>\n",
       "</div>"
      ],
      "text/plain": [
       "                lat   lon  rooms  bedrooms  bathrooms  surface_total  \\\n",
       "property_type                                                          \n",
       "Casa              9     9      0         0         19              0   \n",
       "Departamento   3042  3042      0         0        529              0   \n",
       "PH              173   173      0         0         67              0   \n",
       "\n",
       "               surface_covered  price  property_type  \n",
       "property_type                                         \n",
       "Casa                         0      0              0  \n",
       "Departamento                 0      0              0  \n",
       "PH                           0      0              0  "
      ]
     },
     "execution_count": 26,
     "metadata": {},
     "output_type": "execute_result"
    }
   ],
   "source": [
    "cf_outliers.isnull().groupby(cf_outliers['property_type']).sum()"
   ]
  },
  {
   "cell_type": "markdown",
   "metadata": {},
   "source": [
    "Los valores faltantes de latitud y longitud no son fundamentales para la predicción, a diferencia de la cantidad de baños que sí lo es.\n",
    "\n",
    "Evaluamos la relación entre la cantidad de baños y las otras variables para identificar opciones de imputación:"
   ]
  },
  {
   "cell_type": "code",
   "execution_count": 27,
   "metadata": {},
   "outputs": [
    {
     "data": {
      "text/plain": [
       "<seaborn.axisgrid.PairGrid at 0x1fb99ee8f40>"
      ]
     },
     "execution_count": 27,
     "metadata": {},
     "output_type": "execute_result"
    },
    {
     "data": {
      "image/png": "[encoded data removed]",
      "text/plain": [
       "<Figure size 900x180 with 5 Axes>"
      ]
     },
     "metadata": {},
     "output_type": "display_data"
    }
   ],
   "source": [
    "# Gráfica pairplot para evaluar relación entre variables\n",
    "sns.pairplot(data = cf_outliers, y_vars =['bathrooms'], x_vars=['rooms', 'bedrooms', 'surface_covered', 'surface_total', 'price'])"
   ]
  },
  {
   "cell_type": "markdown",
   "metadata": {},
   "source": [
    "No se observa una relación clara entre la cantidad de baños y las otras variables diponibles, por lo que decidimos eliminar las instancias de baños con valores faltantes."
   ]
  },
  {
   "cell_type": "code",
   "execution_count": 28,
   "metadata": {},
   "outputs": [
    {
     "data": {
      "text/plain": [
       "(46626, 9)"
      ]
     },
     "execution_count": 28,
     "metadata": {},
     "output_type": "execute_result"
    }
   ],
   "source": [
    "cf_outliers.dropna(subset = ['bathrooms'], inplace = True)\n",
    "cf_outliers.shape"
   ]
  },
  {
   "cell_type": "code",
   "execution_count": 31,
   "metadata": {},
   "outputs": [
    {
     "ename": "TypeError",
     "evalue": "'int' object is not iterable",
     "output_type": "error",
     "traceback": [
      "\u001b[1;31m---------------------------------------------------------------------------\u001b[0m",
      "\u001b[1;31mTypeError\u001b[0m                                 Traceback (most recent call last)",
      "\u001b[1;32m<ipython-input-31-9eb989067f51>\u001b[0m in \u001b[0;36m<module>\u001b[1;34m\u001b[0m\n\u001b[1;32m----> 1\u001b[1;33m \u001b[1;32mfor\u001b[0m \u001b[0mrow\u001b[0m \u001b[1;32min\u001b[0m \u001b[0mlen\u001b[0m\u001b[1;33m(\u001b[0m\u001b[0mcf_outliers\u001b[0m\u001b[1;33m)\u001b[0m\u001b[1;33m:\u001b[0m\u001b[1;33m\u001b[0m\u001b[1;33m\u001b[0m\u001b[0m\n\u001b[0m\u001b[0;32m      2\u001b[0m     \u001b[0mcf_outliers\u001b[0m\u001b[1;33m.\u001b[0m\u001b[0miloc\u001b[0m\u001b[1;33m(\u001b[0m\u001b[0mrow\u001b[0m\u001b[1;33m,\u001b[0m\u001b[1;34m'l3'\u001b[0m\u001b[1;33m)\u001b[0m\u001b[1;33m\u001b[0m\u001b[1;33m\u001b[0m\u001b[0m\n",
      "\u001b[1;31mTypeError\u001b[0m: 'int' object is not iterable"
     ]
    }
   ],
   "source": [
    "for row in len(cf_outliers):\n",
    "    cf_outliers.iloc(row,'l3')\n"
   ]
  },
  {
   "cell_type": "code",
   "execution_count": null,
   "metadata": {},
   "outputs": [],
   "source": [
    ".lat.fillna(data_copy.mean(),inplace = True)\n",
    "data_copy.isna().sum()"
   ]
  },
  {
   "cell_type": "code",
   "execution_count": null,
   "metadata": {},
   "outputs": [],
   "source": [
    "cf_outliers.groupby(cf_outliers['l3'])"
   ]
  },
  {
   "cell_type": "markdown",
   "metadata": {},
   "source": [
    "#### Escalado de Datos"
   ]
  },
  {
   "cell_type": "code",
   "execution_count": 63,
   "metadata": {},
   "outputs": [],
   "source": [
    "from sklearn.preprocessing import StandardScaler"
   ]
  },
  {
   "cell_type": "code",
   "execution_count": 64,
   "metadata": {},
   "outputs": [],
   "source": [
    "scaler = StandardScaler()\n",
    "variables = cf_outliers[['rooms', 'bedrooms', 'bathrooms', 'surface_total', 'surface_covered']]\n",
    "scaled_variables = pd.DataFrame(scaler.fit_transform(variables))"
   ]
  },
  {
   "cell_type": "code",
   "execution_count": 65,
   "metadata": {},
   "outputs": [],
   "source": [
    "scaled_variables.rename(columns= {0: 'scaled_rooms', 1:'scaled_bedrooms', 2:'scaled_bathrooms', 3:'scaled_surface_total', 4:'scaled_surface_covered'}, inplace = True)"
   ]
  },
  {
   "cell_type": "code",
   "execution_count": 66,
   "metadata": {},
   "outputs": [
    {
     "data": {
      "text/html": [
       "<div>\n",
       "<style scoped>\n",
       "    .dataframe tbody tr th:only-of-type {\n",
       "        vertical-align: middle;\n",
       "    }\n",
       "\n",
       "    .dataframe tbody tr th {\n",
       "        vertical-align: top;\n",
       "    }\n",
       "\n",
       "    .dataframe thead th {\n",
       "        text-align: right;\n",
       "    }\n",
       "</style>\n",
       "<table border=\"1\" class=\"dataframe\">\n",
       "  <thead>\n",
       "    <tr style=\"text-align: right;\">\n",
       "      <th></th>\n",
       "      <th>scaled_rooms</th>\n",
       "      <th>scaled_bedrooms</th>\n",
       "      <th>scaled_bathrooms</th>\n",
       "      <th>scaled_surface_total</th>\n",
       "      <th>scaled_surface_covered</th>\n",
       "    </tr>\n",
       "  </thead>\n",
       "  <tbody>\n",
       "    <tr>\n",
       "      <th>0</th>\n",
       "      <td>3.996138</td>\n",
       "      <td>5.972864</td>\n",
       "      <td>1.020076</td>\n",
       "      <td>1.730448</td>\n",
       "      <td>2.476760</td>\n",
       "    </tr>\n",
       "    <tr>\n",
       "      <th>1</th>\n",
       "      <td>-0.687769</td>\n",
       "      <td>-0.915925</td>\n",
       "      <td>1.020076</td>\n",
       "      <td>-0.129931</td>\n",
       "      <td>-0.234180</td>\n",
       "    </tr>\n",
       "    <tr>\n",
       "      <th>2</th>\n",
       "      <td>-0.687769</td>\n",
       "      <td>-0.915925</td>\n",
       "      <td>-0.586316</td>\n",
       "      <td>0.268722</td>\n",
       "      <td>-0.498662</td>\n",
       "    </tr>\n",
       "    <tr>\n",
       "      <th>3</th>\n",
       "      <td>-0.687769</td>\n",
       "      <td>-0.915925</td>\n",
       "      <td>-0.586316</td>\n",
       "      <td>-0.502007</td>\n",
       "      <td>-0.300300</td>\n",
       "    </tr>\n",
       "    <tr>\n",
       "      <th>4</th>\n",
       "      <td>-1.624550</td>\n",
       "      <td>-0.915925</td>\n",
       "      <td>-0.586316</td>\n",
       "      <td>-0.794352</td>\n",
       "      <td>-0.928445</td>\n",
       "    </tr>\n",
       "    <tr>\n",
       "      <th>...</th>\n",
       "      <td>...</td>\n",
       "      <td>...</td>\n",
       "      <td>...</td>\n",
       "      <td>...</td>\n",
       "      <td>...</td>\n",
       "    </tr>\n",
       "    <tr>\n",
       "      <th>46621</th>\n",
       "      <td>0.249013</td>\n",
       "      <td>0.232207</td>\n",
       "      <td>1.020076</td>\n",
       "      <td>0.188991</td>\n",
       "      <td>0.559266</td>\n",
       "    </tr>\n",
       "    <tr>\n",
       "      <th>46622</th>\n",
       "      <td>2.122575</td>\n",
       "      <td>0.232207</td>\n",
       "      <td>1.020076</td>\n",
       "      <td>1.039450</td>\n",
       "      <td>0.989049</td>\n",
       "    </tr>\n",
       "    <tr>\n",
       "      <th>46623</th>\n",
       "      <td>1.185794</td>\n",
       "      <td>0.232207</td>\n",
       "      <td>2.626469</td>\n",
       "      <td>2.235408</td>\n",
       "      <td>1.088230</td>\n",
       "    </tr>\n",
       "    <tr>\n",
       "      <th>46624</th>\n",
       "      <td>0.249013</td>\n",
       "      <td>0.232207</td>\n",
       "      <td>1.020076</td>\n",
       "      <td>1.836755</td>\n",
       "      <td>2.278399</td>\n",
       "    </tr>\n",
       "    <tr>\n",
       "      <th>46625</th>\n",
       "      <td>0.249013</td>\n",
       "      <td>0.232207</td>\n",
       "      <td>1.020076</td>\n",
       "      <td>1.863332</td>\n",
       "      <td>2.642062</td>\n",
       "    </tr>\n",
       "  </tbody>\n",
       "</table>\n",
       "<p>46626 rows × 5 columns</p>\n",
       "</div>"
      ],
      "text/plain": [
       "       scaled_rooms  scaled_bedrooms  scaled_bathrooms  scaled_surface_total  \\\n",
       "0          3.996138         5.972864          1.020076              1.730448   \n",
       "1         -0.687769        -0.915925          1.020076             -0.129931   \n",
       "2         -0.687769        -0.915925         -0.586316              0.268722   \n",
       "3         -0.687769        -0.915925         -0.586316             -0.502007   \n",
       "4         -1.624550        -0.915925         -0.586316             -0.794352   \n",
       "...             ...              ...               ...                   ...   \n",
       "46621      0.249013         0.232207          1.020076              0.188991   \n",
       "46622      2.122575         0.232207          1.020076              1.039450   \n",
       "46623      1.185794         0.232207          2.626469              2.235408   \n",
       "46624      0.249013         0.232207          1.020076              1.836755   \n",
       "46625      0.249013         0.232207          1.020076              1.863332   \n",
       "\n",
       "       scaled_surface_covered  \n",
       "0                    2.476760  \n",
       "1                   -0.234180  \n",
       "2                   -0.498662  \n",
       "3                   -0.300300  \n",
       "4                   -0.928445  \n",
       "...                       ...  \n",
       "46621                0.559266  \n",
       "46622                0.989049  \n",
       "46623                1.088230  \n",
       "46624                2.278399  \n",
       "46625                2.642062  \n",
       "\n",
       "[46626 rows x 5 columns]"
      ]
     },
     "execution_count": 66,
     "metadata": {},
     "output_type": "execute_result"
    }
   ],
   "source": [
    "scaled_variables"
   ]
  },
  {
   "cell_type": "code",
   "execution_count": 67,
   "metadata": {},
   "outputs": [],
   "source": [
    "cf_scaled = pd.concat([cf_outliers.reset_index(drop=True), scaled_variables.reset_index(drop=True)], axis = 1)\n",
    "cf_scaled.drop(['rooms', 'bedrooms', 'bathrooms', 'surface_total', 'surface_covered'],axis=1,inplace=True)"
   ]
  },
  {
   "cell_type": "code",
   "execution_count": 68,
   "metadata": {},
   "outputs": [
    {
     "data": {
      "text/html": [
       "<div>\n",
       "<style scoped>\n",
       "    .dataframe tbody tr th:only-of-type {\n",
       "        vertical-align: middle;\n",
       "    }\n",
       "\n",
       "    .dataframe tbody tr th {\n",
       "        vertical-align: top;\n",
       "    }\n",
       "\n",
       "    .dataframe thead th {\n",
       "        text-align: right;\n",
       "    }\n",
       "</style>\n",
       "<table border=\"1\" class=\"dataframe\">\n",
       "  <thead>\n",
       "    <tr style=\"text-align: right;\">\n",
       "      <th></th>\n",
       "      <th>lat</th>\n",
       "      <th>lon</th>\n",
       "      <th>price</th>\n",
       "      <th>property_type</th>\n",
       "      <th>scaled_rooms</th>\n",
       "      <th>scaled_bedrooms</th>\n",
       "      <th>scaled_bathrooms</th>\n",
       "      <th>scaled_surface_total</th>\n",
       "      <th>scaled_surface_covered</th>\n",
       "    </tr>\n",
       "  </thead>\n",
       "  <tbody>\n",
       "    <tr>\n",
       "      <th>0</th>\n",
       "      <td>-34.605880</td>\n",
       "      <td>-58.384949</td>\n",
       "      <td>153000.0</td>\n",
       "      <td>Departamento</td>\n",
       "      <td>3.996138</td>\n",
       "      <td>5.972864</td>\n",
       "      <td>1.020076</td>\n",
       "      <td>1.730448</td>\n",
       "      <td>2.476760</td>\n",
       "    </tr>\n",
       "    <tr>\n",
       "      <th>1</th>\n",
       "      <td>-34.624056</td>\n",
       "      <td>-58.412110</td>\n",
       "      <td>159000.0</td>\n",
       "      <td>PH</td>\n",
       "      <td>-0.687769</td>\n",
       "      <td>-0.915925</td>\n",
       "      <td>1.020076</td>\n",
       "      <td>-0.129931</td>\n",
       "      <td>-0.234180</td>\n",
       "    </tr>\n",
       "    <tr>\n",
       "      <th>2</th>\n",
       "      <td>-34.581294</td>\n",
       "      <td>-58.436754</td>\n",
       "      <td>295000.0</td>\n",
       "      <td>PH</td>\n",
       "      <td>-0.687769</td>\n",
       "      <td>-0.915925</td>\n",
       "      <td>-0.586316</td>\n",
       "      <td>0.268722</td>\n",
       "      <td>-0.498662</td>\n",
       "    </tr>\n",
       "    <tr>\n",
       "      <th>3</th>\n",
       "      <td>-34.593779</td>\n",
       "      <td>-58.441239</td>\n",
       "      <td>150000.0</td>\n",
       "      <td>PH</td>\n",
       "      <td>-0.687769</td>\n",
       "      <td>-0.915925</td>\n",
       "      <td>-0.586316</td>\n",
       "      <td>-0.502007</td>\n",
       "      <td>-0.300300</td>\n",
       "    </tr>\n",
       "    <tr>\n",
       "      <th>4</th>\n",
       "      <td>-34.639598</td>\n",
       "      <td>-58.419612</td>\n",
       "      <td>89000.0</td>\n",
       "      <td>PH</td>\n",
       "      <td>-1.624550</td>\n",
       "      <td>-0.915925</td>\n",
       "      <td>-0.586316</td>\n",
       "      <td>-0.794352</td>\n",
       "      <td>-0.928445</td>\n",
       "    </tr>\n",
       "  </tbody>\n",
       "</table>\n",
       "</div>"
      ],
      "text/plain": [
       "         lat        lon     price property_type  scaled_rooms  \\\n",
       "0 -34.605880 -58.384949  153000.0  Departamento      3.996138   \n",
       "1 -34.624056 -58.412110  159000.0            PH     -0.687769   \n",
       "2 -34.581294 -58.436754  295000.0            PH     -0.687769   \n",
       "3 -34.593779 -58.441239  150000.0            PH     -0.687769   \n",
       "4 -34.639598 -58.419612   89000.0            PH     -1.624550   \n",
       "\n",
       "   scaled_bedrooms  scaled_bathrooms  scaled_surface_total  \\\n",
       "0         5.972864          1.020076              1.730448   \n",
       "1        -0.915925          1.020076             -0.129931   \n",
       "2        -0.915925         -0.586316              0.268722   \n",
       "3        -0.915925         -0.586316             -0.502007   \n",
       "4        -0.915925         -0.586316             -0.794352   \n",
       "\n",
       "   scaled_surface_covered  \n",
       "0                2.476760  \n",
       "1               -0.234180  \n",
       "2               -0.498662  \n",
       "3               -0.300300  \n",
       "4               -0.928445  "
      ]
     },
     "execution_count": 68,
     "metadata": {},
     "output_type": "execute_result"
    }
   ],
   "source": [
    "cf_scaled.head()"
   ]
  },
  {
   "cell_type": "code",
   "execution_count": 69,
   "metadata": {},
   "outputs": [
    {
     "data": {
      "text/plain": [
       "(0.0, 1.0, 0.0, 1.0)"
      ]
     },
     "execution_count": 69,
     "metadata": {},
     "output_type": "execute_result"
    },
    {
     "data": {
      "image/png": "[encoded data removed]",
      "text/plain": [
       "<Figure size 1080x720 with 6 Axes>"
      ]
     },
     "metadata": {},
     "output_type": "display_data"
    }
   ],
   "source": [
    "# Grafiquemos las nuevas distribuciones\n",
    "fig, axes = plt.subplots(2, 3, figsize=(15, 10))\n",
    "plt.title('Distribution of each variable', fontsize=15)\n",
    "\n",
    "sns.boxplot(ax=axes[0,0], data = cf_scaled, x='scaled_rooms')\n",
    "axes[0,0].set(xlabel='Number of rooms', ylabel='',title='Rooms')\n",
    "\n",
    "sns.boxplot(ax=axes[0,1], data = cf_scaled, x='scaled_bedrooms')\n",
    "axes[0,1].set(xlabel='Number of bedrooms', ylabel='',title='Bedrooms')\n",
    "\n",
    "sns.boxplot(ax=axes[0,2], data = cf_scaled, x='scaled_bathrooms')\n",
    "axes[0,2].set(xlabel='Number of bathrooms', ylabel='',title='Bathrooms')\n",
    "\n",
    "sns.histplot(ax=axes[1,0], data = cf_scaled, x='scaled_surface_total')\n",
    "axes[1,0].set(xlabel='Total Surface (m^2)', ylabel='Number of Properties',title='Total Surface')\n",
    "\n",
    "sns.histplot(ax=axes[1,1], data = cf_scaled, x='scaled_surface_covered')\n",
    "axes[1,1].set(xlabel='Covered Surface (m^2)', ylabel='Number of Properties',title='Covered Surface')\n",
    "\n",
    "axes[-1, -1].axis('off')"
   ]
  },
  {
   "cell_type": "markdown",
   "metadata": {},
   "source": [
    "#### Encoding"
   ]
  },
  {
   "cell_type": "markdown",
   "metadata": {},
   "source": [
    "De nuestro análisis anterior del dataset sabemos que el tipo de propiedad afecta el valor de las correlaciones entre las variables, como se ve a continuación:"
   ]
  },
  {
   "cell_type": "code",
   "execution_count": 70,
   "metadata": {},
   "outputs": [
    {
     "data": {
      "text/plain": [
       "Text(0.5, 1.0, 'Houses')"
      ]
     },
     "execution_count": 70,
     "metadata": {},
     "output_type": "execute_result"
    },
    {
     "data": {
      "image/png": "[encoded data removed]",
      "text/plain": [
       "<Figure size 1800x360 with 5 Axes>"
      ]
     },
     "metadata": {},
     "output_type": "display_data"
    }
   ],
   "source": [
    "apto = cf_scaled.loc[cf_scaled.property_type == 'Departamento']\n",
    "apto = apto[['scaled_rooms','scaled_bedrooms','scaled_bathrooms','scaled_surface_total', 'scaled_surface_covered','price']]\n",
    "\n",
    "PH = cf_scaled.loc[cf_scaled.property_type == 'PH']\n",
    "PH = PH[['scaled_rooms','scaled_bedrooms','scaled_bathrooms','scaled_surface_total', 'scaled_surface_covered','price']]\n",
    "\n",
    "casa = cf_scaled.loc[cf_scaled.property_type == 'Casa']\n",
    "casa = casa[['scaled_rooms','scaled_bedrooms','scaled_bathrooms','scaled_surface_total', 'scaled_surface_covered','price']]\n",
    "\n",
    "general = cf_scaled[['scaled_rooms','scaled_bedrooms','scaled_bathrooms','scaled_surface_total', 'scaled_surface_covered','price']]\n",
    "\n",
    "corrs = plt.figure(1)\n",
    "corrs.set_figheight(5)\n",
    "corrs.set_figwidth(25)\n",
    "corrs.suptitle('Correlation between Variables', fontsize = 16)\n",
    "\n",
    "plt.subplot(141)\n",
    "sns.heatmap(general.corr(), cbar = False,  square = True, annot=True, fmt= '.2f',\n",
    "           xticklabels= ['rooms', 'bedrooms', 'bathrooms', 'surface_total', 'surface_covered', 'price'], \n",
    "           yticklabels= ['rooms', 'bedrooms', 'bathrooms', 'surface_total', 'surface_covered', 'price'],\n",
    "           cmap= 'OrRd')\n",
    "plt.xticks(rotation = 45)\n",
    "plt.yticks(rotation = 45)\n",
    "plt.title('General', fontsize=14)\n",
    "\n",
    "plt.subplot(142)\n",
    "sns.heatmap(apto.corr(), cbar = False,  square = True, annot=True, fmt= '.2f',\n",
    "           xticklabels= ['rooms', 'bedrooms', 'bathrooms', 'surface_total', 'surface_covered', 'price'], \n",
    "           yticklabels= ['rooms', 'bedrooms', 'bathrooms', 'surface_total', 'surface_covered', 'price'],\n",
    "           cmap= 'OrRd')\n",
    "plt.xticks(rotation = 45)\n",
    "plt.yticks(rotation = 45)\n",
    "plt.title('Departaments', fontsize=14)\n",
    "\n",
    "plt.subplot(143)\n",
    "sns.heatmap(PH.corr(), cbar = False,  square = True, annot=True, fmt= '.2f',\n",
    "           xticklabels= ['rooms', 'bedrooms', 'bathrooms', 'surface_total', 'surface_covered', 'price'], \n",
    "           yticklabels= ['rooms', 'bedrooms', 'bathrooms', 'surface_total', 'surface_covered', 'price'],\n",
    "           cmap= 'OrRd')\n",
    "plt.xticks(rotation = 45)\n",
    "plt.yticks(rotation = 45)\n",
    "plt.title('PHs', fontsize=14)\n",
    "\n",
    "plt.subplot(144)\n",
    "sns.heatmap(casa.corr(), cbar = True,  square = True, annot=True, fmt= '.2f',\n",
    "           xticklabels= ['rooms', 'bedrooms', 'bathrooms', 'surface_total', 'surface_covered', 'price'], \n",
    "           yticklabels= ['rooms', 'bedrooms', 'bathrooms', 'surface_total', 'surface_covered', 'price'],\n",
    "           cmap= 'OrRd')\n",
    "plt.xticks(rotation = 45)\n",
    "plt.yticks(rotation = 45)\n",
    "plt.title('Houses', fontsize=14)"
   ]
  },
  {
   "cell_type": "markdown",
   "metadata": {},
   "source": [
    "De forma que aplicaremos One Hot Encoding a la variable de tipo de propiedad:"
   ]
  },
  {
   "cell_type": "code",
   "execution_count": 81,
   "metadata": {},
   "outputs": [
    {
     "data": {
      "text/plain": [
       "(46626, 11)"
      ]
     },
     "execution_count": 81,
     "metadata": {},
     "output_type": "execute_result"
    }
   ],
   "source": [
    "dummies = pd.get_dummies(cf_scaled.property_type, drop_first= True)\n",
    "cf_encoding = pd.concat([cf_scaled, dummies], axis = 1)\n",
    "cf_encoding.shape"
   ]
  },
  {
   "cell_type": "code",
   "execution_count": 82,
   "metadata": {},
   "outputs": [
    {
     "data": {
      "text/html": [
       "<div>\n",
       "<style scoped>\n",
       "    .dataframe tbody tr th:only-of-type {\n",
       "        vertical-align: middle;\n",
       "    }\n",
       "\n",
       "    .dataframe tbody tr th {\n",
       "        vertical-align: top;\n",
       "    }\n",
       "\n",
       "    .dataframe thead th {\n",
       "        text-align: right;\n",
       "    }\n",
       "</style>\n",
       "<table border=\"1\" class=\"dataframe\">\n",
       "  <thead>\n",
       "    <tr style=\"text-align: right;\">\n",
       "      <th></th>\n",
       "      <th>lat</th>\n",
       "      <th>lon</th>\n",
       "      <th>price</th>\n",
       "      <th>property_type</th>\n",
       "      <th>scaled_rooms</th>\n",
       "      <th>scaled_bedrooms</th>\n",
       "      <th>scaled_bathrooms</th>\n",
       "      <th>scaled_surface_total</th>\n",
       "      <th>scaled_surface_covered</th>\n",
       "      <th>Departamento</th>\n",
       "      <th>PH</th>\n",
       "    </tr>\n",
       "  </thead>\n",
       "  <tbody>\n",
       "    <tr>\n",
       "      <th>0</th>\n",
       "      <td>-34.605880</td>\n",
       "      <td>-58.384949</td>\n",
       "      <td>153000.0</td>\n",
       "      <td>Departamento</td>\n",
       "      <td>3.996138</td>\n",
       "      <td>5.972864</td>\n",
       "      <td>1.020076</td>\n",
       "      <td>1.730448</td>\n",
       "      <td>2.476760</td>\n",
       "      <td>1</td>\n",
       "      <td>0</td>\n",
       "    </tr>\n",
       "    <tr>\n",
       "      <th>1</th>\n",
       "      <td>-34.624056</td>\n",
       "      <td>-58.412110</td>\n",
       "      <td>159000.0</td>\n",
       "      <td>PH</td>\n",
       "      <td>-0.687769</td>\n",
       "      <td>-0.915925</td>\n",
       "      <td>1.020076</td>\n",
       "      <td>-0.129931</td>\n",
       "      <td>-0.234180</td>\n",
       "      <td>0</td>\n",
       "      <td>1</td>\n",
       "    </tr>\n",
       "    <tr>\n",
       "      <th>2</th>\n",
       "      <td>-34.581294</td>\n",
       "      <td>-58.436754</td>\n",
       "      <td>295000.0</td>\n",
       "      <td>PH</td>\n",
       "      <td>-0.687769</td>\n",
       "      <td>-0.915925</td>\n",
       "      <td>-0.586316</td>\n",
       "      <td>0.268722</td>\n",
       "      <td>-0.498662</td>\n",
       "      <td>0</td>\n",
       "      <td>1</td>\n",
       "    </tr>\n",
       "    <tr>\n",
       "      <th>3</th>\n",
       "      <td>-34.593779</td>\n",
       "      <td>-58.441239</td>\n",
       "      <td>150000.0</td>\n",
       "      <td>PH</td>\n",
       "      <td>-0.687769</td>\n",
       "      <td>-0.915925</td>\n",
       "      <td>-0.586316</td>\n",
       "      <td>-0.502007</td>\n",
       "      <td>-0.300300</td>\n",
       "      <td>0</td>\n",
       "      <td>1</td>\n",
       "    </tr>\n",
       "    <tr>\n",
       "      <th>4</th>\n",
       "      <td>-34.639598</td>\n",
       "      <td>-58.419612</td>\n",
       "      <td>89000.0</td>\n",
       "      <td>PH</td>\n",
       "      <td>-1.624550</td>\n",
       "      <td>-0.915925</td>\n",
       "      <td>-0.586316</td>\n",
       "      <td>-0.794352</td>\n",
       "      <td>-0.928445</td>\n",
       "      <td>0</td>\n",
       "      <td>1</td>\n",
       "    </tr>\n",
       "  </tbody>\n",
       "</table>\n",
       "</div>"
      ],
      "text/plain": [
       "         lat        lon     price property_type  scaled_rooms  \\\n",
       "0 -34.605880 -58.384949  153000.0  Departamento      3.996138   \n",
       "1 -34.624056 -58.412110  159000.0            PH     -0.687769   \n",
       "2 -34.581294 -58.436754  295000.0            PH     -0.687769   \n",
       "3 -34.593779 -58.441239  150000.0            PH     -0.687769   \n",
       "4 -34.639598 -58.419612   89000.0            PH     -1.624550   \n",
       "\n",
       "   scaled_bedrooms  scaled_bathrooms  scaled_surface_total  \\\n",
       "0         5.972864          1.020076              1.730448   \n",
       "1        -0.915925          1.020076             -0.129931   \n",
       "2        -0.915925         -0.586316              0.268722   \n",
       "3        -0.915925         -0.586316             -0.502007   \n",
       "4        -0.915925         -0.586316             -0.794352   \n",
       "\n",
       "   scaled_surface_covered  Departamento  PH  \n",
       "0                2.476760             1   0  \n",
       "1               -0.234180             0   1  \n",
       "2               -0.498662             0   1  \n",
       "3               -0.300300             0   1  \n",
       "4               -0.928445             0   1  "
      ]
     },
     "execution_count": 82,
     "metadata": {},
     "output_type": "execute_result"
    }
   ],
   "source": [
    "cf_encoding.head()"
   ]
  },
  {
   "cell_type": "markdown",
   "metadata": {},
   "source": [
    "#### Generación de nuevas variables predictoras/reducción de dimensionalidad (SVD/PCA)"
   ]
  },
  {
   "cell_type": "markdown",
   "metadata": {},
   "source": [
    "Se guarda la variable `price` como target `y` y se elimina las variables `property_type` para así aplicar PCA al dataset de variables numéricas disminuyendo la dimensionalidad de los atributos e identificando las variables más y menos importantes del dataset."
   ]
  },
  {
   "cell_type": "code",
   "execution_count": 98,
   "metadata": {},
   "outputs": [],
   "source": [
    "y =  cf_encoding['price']\n",
    "cf_PCA = cf_encoding.drop(['property_type','price','lat','lon'],axis=1)"
   ]
  },
  {
   "cell_type": "code",
   "execution_count": 99,
   "metadata": {},
   "outputs": [
    {
     "data": {
      "text/html": [
       "<div>\n",
       "<style scoped>\n",
       "    .dataframe tbody tr th:only-of-type {\n",
       "        vertical-align: middle;\n",
       "    }\n",
       "\n",
       "    .dataframe tbody tr th {\n",
       "        vertical-align: top;\n",
       "    }\n",
       "\n",
       "    .dataframe thead th {\n",
       "        text-align: right;\n",
       "    }\n",
       "</style>\n",
       "<table border=\"1\" class=\"dataframe\">\n",
       "  <thead>\n",
       "    <tr style=\"text-align: right;\">\n",
       "      <th></th>\n",
       "      <th>scaled_rooms</th>\n",
       "      <th>scaled_bedrooms</th>\n",
       "      <th>scaled_bathrooms</th>\n",
       "      <th>scaled_surface_total</th>\n",
       "      <th>scaled_surface_covered</th>\n",
       "      <th>Departamento</th>\n",
       "      <th>PH</th>\n",
       "    </tr>\n",
       "  </thead>\n",
       "  <tbody>\n",
       "    <tr>\n",
       "      <th>count</th>\n",
       "      <td>4.662600e+04</td>\n",
       "      <td>4.662600e+04</td>\n",
       "      <td>4.662600e+04</td>\n",
       "      <td>4.662600e+04</td>\n",
       "      <td>4.662600e+04</td>\n",
       "      <td>46626.000000</td>\n",
       "      <td>46626.000000</td>\n",
       "    </tr>\n",
       "    <tr>\n",
       "      <th>mean</th>\n",
       "      <td>-8.351079e-17</td>\n",
       "      <td>-2.133487e-18</td>\n",
       "      <td>-8.290122e-17</td>\n",
       "      <td>-1.243518e-16</td>\n",
       "      <td>-1.706790e-16</td>\n",
       "      <td>0.869601</td>\n",
       "      <td>0.114636</td>\n",
       "    </tr>\n",
       "    <tr>\n",
       "      <th>std</th>\n",
       "      <td>1.000011e+00</td>\n",
       "      <td>1.000011e+00</td>\n",
       "      <td>1.000011e+00</td>\n",
       "      <td>1.000011e+00</td>\n",
       "      <td>1.000011e+00</td>\n",
       "      <td>0.336746</td>\n",
       "      <td>0.318585</td>\n",
       "    </tr>\n",
       "    <tr>\n",
       "      <th>min</th>\n",
       "      <td>-1.624550e+00</td>\n",
       "      <td>-2.064056e+00</td>\n",
       "      <td>-5.863165e-01</td>\n",
       "      <td>-1.644811e+00</td>\n",
       "      <td>-2.085554e+00</td>\n",
       "      <td>0.000000</td>\n",
       "      <td>0.000000</td>\n",
       "    </tr>\n",
       "    <tr>\n",
       "      <th>25%</th>\n",
       "      <td>-6.877686e-01</td>\n",
       "      <td>-9.159245e-01</td>\n",
       "      <td>-5.863165e-01</td>\n",
       "      <td>-7.411984e-01</td>\n",
       "      <td>-7.631439e-01</td>\n",
       "      <td>1.000000</td>\n",
       "      <td>0.000000</td>\n",
       "    </tr>\n",
       "    <tr>\n",
       "      <th>50%</th>\n",
       "      <td>2.490127e-01</td>\n",
       "      <td>2.322069e-01</td>\n",
       "      <td>-5.863165e-01</td>\n",
       "      <td>-2.628153e-01</td>\n",
       "      <td>-2.341799e-01</td>\n",
       "      <td>1.000000</td>\n",
       "      <td>0.000000</td>\n",
       "    </tr>\n",
       "    <tr>\n",
       "      <th>75%</th>\n",
       "      <td>2.490127e-01</td>\n",
       "      <td>2.322069e-01</td>\n",
       "      <td>1.020076e+00</td>\n",
       "      <td>4.813363e-01</td>\n",
       "      <td>4.931455e-01</td>\n",
       "      <td>1.000000</td>\n",
       "      <td>0.000000</td>\n",
       "    </tr>\n",
       "    <tr>\n",
       "      <th>max</th>\n",
       "      <td>1.711108e+01</td>\n",
       "      <td>1.515792e+01</td>\n",
       "      <td>2.029679e+01</td>\n",
       "      <td>3.697134e+00</td>\n",
       "      <td>3.666929e+00</td>\n",
       "      <td>1.000000</td>\n",
       "      <td>1.000000</td>\n",
       "    </tr>\n",
       "  </tbody>\n",
       "</table>\n",
       "</div>"
      ],
      "text/plain": [
       "       scaled_rooms  scaled_bedrooms  scaled_bathrooms  scaled_surface_total  \\\n",
       "count  4.662600e+04     4.662600e+04      4.662600e+04          4.662600e+04   \n",
       "mean  -8.351079e-17    -2.133487e-18     -8.290122e-17         -1.243518e-16   \n",
       "std    1.000011e+00     1.000011e+00      1.000011e+00          1.000011e+00   \n",
       "min   -1.624550e+00    -2.064056e+00     -5.863165e-01         -1.644811e+00   \n",
       "25%   -6.877686e-01    -9.159245e-01     -5.863165e-01         -7.411984e-01   \n",
       "50%    2.490127e-01     2.322069e-01     -5.863165e-01         -2.628153e-01   \n",
       "75%    2.490127e-01     2.322069e-01      1.020076e+00          4.813363e-01   \n",
       "max    1.711108e+01     1.515792e+01      2.029679e+01          3.697134e+00   \n",
       "\n",
       "       scaled_surface_covered  Departamento            PH  \n",
       "count            4.662600e+04  46626.000000  46626.000000  \n",
       "mean            -1.706790e-16      0.869601      0.114636  \n",
       "std              1.000011e+00      0.336746      0.318585  \n",
       "min             -2.085554e+00      0.000000      0.000000  \n",
       "25%             -7.631439e-01      1.000000      0.000000  \n",
       "50%             -2.341799e-01      1.000000      0.000000  \n",
       "75%              4.931455e-01      1.000000      0.000000  \n",
       "max              3.666929e+00      1.000000      1.000000  "
      ]
     },
     "execution_count": 99,
     "metadata": {},
     "output_type": "execute_result"
    }
   ],
   "source": [
    "cf_PCA.describe()"
   ]
  },
  {
   "cell_type": "code",
   "execution_count": 100,
   "metadata": {},
   "outputs": [],
   "source": [
    "from sklearn.decomposition import PCA\n",
    "\n",
    "pca = PCA(n_components=5)\n",
    "X_nuevo = pca.fit_transform(cf_PCA) "
   ]
  },
  {
   "cell_type": "code",
   "execution_count": 101,
   "metadata": {},
   "outputs": [
    {
     "data": {
      "text/plain": [
       "array([[ 0.46533964,  0.4608018 ,  0.35349929,  0.46208406,  0.47923052,\n",
       "        -0.04454231,  0.03148621],\n",
       "       [-0.31611541, -0.30569448,  0.88682211, -0.03824208, -0.00092324,\n",
       "         0.10198358, -0.09112911],\n",
       "       [ 0.39155724,  0.46443509,  0.23885357, -0.61255317, -0.38724218,\n",
       "         0.17279631, -0.13746087],\n",
       "       [ 0.05159303,  0.03929164,  0.17462713,  0.00300855, -0.32381458,\n",
       "        -0.66212541,  0.64963428],\n",
       "       [ 0.71843259, -0.69054198,  0.01434388, -0.07664115,  0.03006858,\n",
       "         0.00466463,  0.00095033]])"
      ]
     },
     "execution_count": 101,
     "metadata": {},
     "output_type": "execute_result"
    }
   ],
   "source": [
    "pca.components_"
   ]
  },
  {
   "cell_type": "code",
   "execution_count": 103,
   "metadata": {},
   "outputs": [
    {
     "data": {
      "text/plain": [
       "array([[ 6.94959796, -2.22920351,  2.60156625, -0.33862741, -1.29657742],\n",
       "       [-0.48716386,  1.23785107, -0.55273213,  1.33304846,  0.15270248],\n",
       "       [-0.99755936, -0.20173463, -1.07820211,  1.1393712 ,  0.09115478],\n",
       "       ...,\n",
       "       [ 3.13229489,  1.82063249, -0.55293158,  0.0224839 ,  0.59113481],\n",
       "       [ 2.59069749,  0.51321274, -1.83037255,  0.61879904, -0.04229571],\n",
       "       [ 2.70122798,  0.70497333, -1.67722064, -0.81063998, -0.02968348]])"
      ]
     },
     "execution_count": 103,
     "metadata": {},
     "output_type": "execute_result"
    }
   ],
   "source": [
    "X_nuevo"
   ]
  },
  {
   "cell_type": "code",
   "execution_count": null,
   "metadata": {},
   "outputs": [],
   "source": []
  },
  {
   "cell_type": "code",
   "execution_count": null,
   "metadata": {},
   "outputs": [],
   "source": []
  },
  {
   "cell_type": "markdown",
   "metadata": {},
   "source": [
    "## PARTE B - Modelos Avanzados\n",
    "\n",
    "1. Elige dos de los modelos avanzados vistos Compara con el desempeño obtenido en el proyecto 01 (en el caso de regresión, considera una regresión lineal con atributos polinómicos y regularización). Entrénalos y evalúalos con sus argumentos por defecto. No te olvides de hacer un train/test split y usar Validación Cruzada.\n",
    "2. Optimiza sus hiperparámetros mediante Validación Cruzada y Grid Search o Random Search.\n",
    "3. Compara el desempeño de los nuevos modelos entre sí y con el modelo de la Parte A \n",
    "¿Cuál elegirías? Justifica"
   ]
  },
  {
   "cell_type": "markdown",
   "metadata": {},
   "source": [
    "##### Train/Test Split"
   ]
  },
  {
   "cell_type": "code",
   "execution_count": null,
   "metadata": {},
   "outputs": [],
   "source": [
    "from sklearn.model_selection import train_test_split\n",
    "X_train, X_test, y_train, y_test = train_test_split(X_nuevo, y, test_size=0.3, random_state=42)"
   ]
  },
  {
   "cell_type": "markdown",
   "metadata": {},
   "source": [
    "##### Métricas de evaluación\n",
    "Se seleccionan las métricas de evaluación para los modelos:"
   ]
  },
  {
   "cell_type": "code",
   "execution_count": null,
   "metadata": {},
   "outputs": [],
   "source": [
    "from sklearn.metrics import mean_squared_error\n",
    "from sklearn.metrics import r2_score\n",
    "\n",
    "#Dataframe para almacenar los resultados de error\n",
    "errores = pd.DataFrame(columns = ['Modelo','RMSE Train', 'RMSE Test', 'R2 Train', 'R2 Test'])\n",
    "\n",
    "#Función de cálculo del RMSE para datos de entrenamiento y test\n",
    "def error(modelo, y_train, y_train_pred, y_test, y_test_pred):\n",
    "    global errores\n",
    "    \n",
    "    rmse_train = np.sqrt(mean_squared_error(y_train, y_train_pred))\n",
    "    rmse_test = np.sqrt(mean_squared_error(y_test, y_test_pred))\n",
    "    r2_train = r2_score(y_train, y_train_pred)\n",
    "    r2_test = r2_score(y_train, y_train_pred)\n",
    "    errores = errores.append({'Modelo':modelo,'RMSE Train':round(rmse_train,2),'RMSE Test':round(rmse_test,2),\n",
    "                              'R2 Train':round(r2_train,4),'R2 Test':round(r2_test,4)},  ignore_index=True)\n",
    "    return errores"
   ]
  },
  {
   "cell_type": "markdown",
   "metadata": {},
   "source": [
    "#### B.1 Modelo de regresión lineal avanzada"
   ]
  },
  {
   "cell_type": "code",
   "execution_count": null,
   "metadata": {},
   "outputs": [],
   "source": [
    "from sklearn.preprocessing import PolynomialFeatures\n",
    "import sklearn as sk\n",
    "\n",
    "X = x.reshape(-1,1)\n",
    "X_train, X_test, y_train, y_test = train_test_split(\n",
    "    X, y, test_size=0.25, random_state=42)\n",
    "\n",
    "#poly = PolynomialFeatures(7, include_bias=False)\n",
    "poly = sk.preprocessing.PolynomialFeatures(7, include_bias=False)\n",
    "#X_train_new = poly.fit_transform(X_train)\n",
    "poly_train = poly.fit(X_train)\n",
    "X_train_new = poly_train.transform(X_train)\n",
    "X_test_new = poly.fit_transform(X_test)\n",
    "print(X_train_new.shape, X_test_new.shape)"
   ]
  },
  {
   "cell_type": "markdown",
   "metadata": {},
   "source": [
    "## PARTE C - Interpretación de modelos\n",
    "\n",
    "De acuerdo a lo que el modelo permite, responde algunas o todas las siguientes preguntas:\n",
    "\n",
    "1. ¿Qué variables fueron relevantes para el modelo para hacer una predicción? ¿Cuáles no? Si usaste una regresión lineal con regularización, presta atención a los parámetros (pendientes) obtenidas. Si usaste un modelo de ensamble en árboles, además de ver la importancia de cada atributo, también elige algunos árboles al azar y observa qué atributos considera importantes. ¿En qué se diferencian esos árboles? ¿Por qué? Finalmente, responde, ¿coincide con lo que esperabas a partir de tu experiencia con este dataset?\n",
    "\n",
    "2. ¿Cómo es la distribución de errores (regresión) o qué clases se confunden entre sí (clasificación)? ¿Dónde falla? ¿A qué se debe?"
   ]
  },
  {
   "cell_type": "markdown",
   "metadata": {},
   "source": []
  },
  {
   "cell_type": "code",
   "execution_count": null,
   "metadata": {},
   "outputs": [],
   "source": []
  },
  {
   "cell_type": "code",
   "execution_count": null,
   "metadata": {},
   "outputs": [],
   "source": []
  },
  {
   "cell_type": "markdown",
   "metadata": {},
   "source": [
    "### DESAFÍO OPCIONAL\n",
    "\n",
    "Aplica una técnica de Clustering sobre el dataset. Puedes combinar con técnicas de reducción de dimensionalidad para facilitar la visualización. ¿Qué clusters encuentras? ¿A qué pueden corresponder? Te dejamos preguntas que pueden servir como disparadoras: ¿qué barrios se parecen más entre sí?¿qué tipos de propiedades se parecen más entre sí?"
   ]
  },
  {
   "cell_type": "code",
   "execution_count": null,
   "metadata": {},
   "outputs": [],
   "source": []
  }
 ],
 "metadata": {
  "kernelspec": {
   "display_name": "Python 3",
   "language": "python",
   "name": "python3"
  },
  "language_info": {
   "codemirror_mode": {
    "name": "ipython",
    "version": 3
   },
   "file_extension": ".py",
   "mimetype": "text/x-python",
   "name": "python",
   "nbconvert_exporter": "python",
   "pygments_lexer": "ipython3",
   "version": "3.8.5"
  }
 },
 "nbformat": 4,
 "nbformat_minor": 4
}
