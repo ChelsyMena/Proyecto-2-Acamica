{
 "metadata": {
  "language_info": {
   "codemirror_mode": {
    "name": "ipython",
    "version": 3
   },
   "file_extension": ".py",
   "mimetype": "text/x-python",
   "name": "python",
   "nbconvert_exporter": "python",
   "pygments_lexer": "ipython3",
   "version": "3.8.5"
  },
  "orig_nbformat": 2,
  "kernelspec": {
   "name": "python385jvsc74a57bd0fe3d3fe6cf1d26568c39c265eaefa8a75e57b8fd67cb8276f82b25a3c3fb4376",
   "display_name": "Python 3.8.5 64-bit ('DataScience': conda)"
  }
 },
 "nbformat": 4,
 "nbformat_minor": 2,
 "cells": [
  {
   "source": [
    "# Proyecto: Análisis de mercado inmobiliario\n",
    "## Valeria Ortiz & Chelsy Mena\n",
    "### ¡Segundo proyecto de la carrera de Data Science de Acamica! \n",
    "\n",
    "Aplicaremos transformación de datos y entrenaremos Modelos Avanzados para desarrollar con mayor profundidad el modelo de Machine Learning que nos permitió predecir el precio de Apartamentos, Casas y PH de la capital Federal Argentina.\n",
    "\n",
    "En este proyecto trabajamos con un dataset de propiedades en venta publicado en el portal [Properati](www.properati.com.ar).\n"
   ],
   "cell_type": "markdown",
   "metadata": {}
  },
  {
   "source": [
    "## PARTE A - Transformación de Datos\n",
    "\n",
    "Elige cuáles de las siguientes tareas son apropiadas para su dataset. Implementa las transformaciones que elegiste. Es importante que justifiques por qué las haces:\n",
    "\n",
    "    Detección y eliminación de Outliers\n",
    "    Encoding\n",
    "    Imputación de valores faltantes\n",
    "    Escalado de datos\n",
    "    Generación de nuevas variables predictoras/reducción de dimensionalidad (SVD/PCA).\n",
    "\n",
    "Vuelve a entrenar el modelo implementado en la Entrega 1 - en particular, el árbol de decisión - con este nuevo dataset transformado. Evalúa su desempeño a partir del dataset obtenido luego de transformar los datos. ¿Hay una mejora en su desempeño? Compara con el desempeño obtenido en el proyecto 1. Sea cual sea la respuesta, intenta explicar a qué se debe"
   ],
   "cell_type": "markdown",
   "metadata": {}
  },
  {
   "cell_type": "code",
   "execution_count": null,
   "metadata": {},
   "outputs": [],
   "source": []
  },
  {
   "cell_type": "code",
   "execution_count": null,
   "metadata": {},
   "outputs": [],
   "source": []
  },
  {
   "cell_type": "code",
   "execution_count": null,
   "metadata": {},
   "outputs": [],
   "source": []
  },
  {
   "source": [
    "## PARTE B - Modelos Avanzados\n",
    "\n",
    "1. Elige dos de los modelos avanzados vistos Compara con el desempeño obtenido en el proyecto 01 (en el caso de regresión, considera una regresión lineal con atributos polinómicos y regularización). Entrénalos y evalúalos con sus argumentos por defecto. No te olvides de hacer un train/test split y usar Validación Cruzada.\n",
    "2. Optimiza sus hiperparámetros mediante Validación Cruzada y Grid Search o Random Search.\n",
    "3. Compara el desempeño de los nuevos modelos entre sí y con el modelo de la Parte A \n",
    "¿Cuál elegirías? Justifica"
   ],
   "cell_type": "markdown",
   "metadata": {}
  },
  {
   "cell_type": "code",
   "execution_count": null,
   "metadata": {},
   "outputs": [],
   "source": []
  },
  {
   "cell_type": "code",
   "execution_count": null,
   "metadata": {},
   "outputs": [],
   "source": []
  },
  {
   "source": [
    "## PARTE C - Interpretación de modelos\n",
    "\n",
    "De acuerdo a lo que el modelo permite, responde algunas o todas las siguientes preguntas:\n",
    "\n",
    "1. ¿Qué variables fueron relevantes para el modelo para hacer una predicción? ¿Cuáles no? Si usaste una regresión lineal con regularización, presta atención a los parámetros (pendientes) obtenidas. Si usaste un modelo de ensamble en árboles, además de ver la importancia de cada atributo, también elige algunos árboles al azar y observa qué atributos considera importantes. ¿En qué se diferencian esos árboles? ¿Por qué? Finalmente, responde, ¿coincide con lo que esperabas a partir de tu experiencia con este dataset?\n",
    "\n",
    "2. ¿Cómo es la distribución de errores (regresión) o qué clases se confunden entre sí (clasificación)? ¿Dónde falla? ¿A qué se debe?"
   ],
   "cell_type": "markdown",
   "metadata": {}
  },
  {
   "source": [],
   "cell_type": "markdown",
   "metadata": {}
  },
  {
   "cell_type": "code",
   "execution_count": null,
   "metadata": {},
   "outputs": [],
   "source": []
  },
  {
   "cell_type": "code",
   "execution_count": null,
   "metadata": {},
   "outputs": [],
   "source": []
  },
  {
   "source": [
    "### DESAFÍO OPCIONAL\n",
    "\n",
    "Aplica una técnica de Clustering sobre el dataset. Puedes combinar con técnicas de reducción de dimensionalidad para facilitar la visualización. ¿Qué clusters encuentras? ¿A qué pueden corresponder? Te dejamos preguntas que pueden servir como disparadoras: ¿qué barrios se parecen más entre sí?¿qué tipos de propiedades se parecen más entre sí?"
   ],
   "cell_type": "markdown",
   "metadata": {}
  },
  {
   "cell_type": "code",
   "execution_count": null,
   "metadata": {},
   "outputs": [],
   "source": []
  }
 ]
}